{
 "cells": [
  {
   "cell_type": "code",
   "execution_count": 1,
   "id": "noble-patio",
   "metadata": {},
   "outputs": [],
   "source": [
    "using ProgressMeter: @showprogress\n",
    "\n",
    "using BayesianExperiments"
   ]
  },
  {
   "cell_type": "code",
   "execution_count": 247,
   "id": "attempted-sharp",
   "metadata": {},
   "outputs": [
    {
     "data": {
      "text/plain": [
       "simulate (generic function with 1 method)"
      ]
     },
     "execution_count": 247,
     "metadata": {},
     "output_type": "execute_result"
    }
   ],
   "source": [
    "function simulate(δ, n, ;r=0.707, thresh=9, minsample=20, stepsize=1)\n",
    "    # we will use two-sided decision rule for bayes factor\n",
    "    #rule = TwoSidedBFThresh(thresh)\n",
    "    rule = OneSidedBFThresh(thresh)\n",
    "    \n",
    "    # the prior distribution of effect size,\n",
    "    # r is the standard deviation\n",
    "#     model = StudentTEffectSize(r=r)\n",
    "    model = NormalEffectSize(0.0, r)\n",
    "    \n",
    "    # setup the experiment\n",
    "    experiment = ExperimentBF(model=model, rule=rule)\n",
    "    \n",
    "    # create a sample with size n, the effect size is \n",
    "    # specified as δ\n",
    "    xs = rand(Normal(δ, 1), n)\n",
    "    \n",
    "    i = 0\n",
    "    # specify the stopping condition\n",
    "    while (i < n) & (experiment.winner === nothing)\n",
    "        i += stepsize\n",
    "        \n",
    "        # if minimum number of sample is not reached, \n",
    "        # keep collecting data\n",
    "        if i < minsample\n",
    "            continue\n",
    "        end\n",
    "        \n",
    "        stats = NormalStatistics(xs[1:i])\n",
    "        experiment.stats = stats\n",
    "        decide!(experiment)\n",
    "    end\n",
    "    experiment\n",
    "end"
   ]
  },
  {
   "cell_type": "code",
   "execution_count": 266,
   "id": "revolutionary-nerve",
   "metadata": {},
   "outputs": [
    {
     "name": "stderr",
     "output_type": "stream",
     "text": [
      "\u001b[32mProgress: 100%|█████████████████████████████████████████| Time: 0:00:07\u001b[39m\n"
     ]
    },
    {
     "data": {
      "text/plain": [
       "10"
      ]
     },
     "execution_count": 266,
     "metadata": {},
     "output_type": "execute_result"
    }
   ],
   "source": [
    "ns = 1000\n",
    "n = 50_000*7\n",
    "minsample = 50000\n",
    "r = 0.1\n",
    "thresh = 3\n",
    "stepsize=50000\n",
    "\n",
    "deltas = zeros(ns)\n",
    "\n",
    "winners1 = []\n",
    "samplesizes1 = []\n",
    "@showprogress for i in 1:ns\n",
    "    experiment = simulate(deltas[i], n; r=r, thresh=thresh, minsample=minsample, stepsize=stepsize)\n",
    "    push!(winners1, experiment.winner)\n",
    "    push!(samplesizes1, experiment.stats.n)\n",
    "end\n",
    "\n",
    "rej1 = sum(winners1 .== \"alternative\")"
   ]
  },
  {
   "cell_type": "code",
   "execution_count": 264,
   "id": "forty-yukon",
   "metadata": {},
   "outputs": [
    {
     "name": "stderr",
     "output_type": "stream",
     "text": [
      "\u001b[32mProgress: 100%|█████████████████████████████████████████| Time: 0:00:06\u001b[39m\n"
     ]
    },
    {
     "data": {
      "text/plain": [
       "677"
      ]
     },
     "execution_count": 264,
     "metadata": {},
     "output_type": "execute_result"
    }
   ],
   "source": [
    "deltas = ones(ns) * 0.006\n",
    "#deltas = rand(Normal(0, 0.01), ns);\n",
    "\n",
    "winners2 = []\n",
    "samplesizes2 = []\n",
    "@showprogress for i in 1:ns\n",
    "    experiment = simulate(deltas[i], n; r=r, thresh=thresh, minsample=minsample, stepsize=stepsize)\n",
    "    push!(winners2, experiment.winner)\n",
    "    push!(samplesizes2, experiment.stats.n)\n",
    "end\n",
    "\n",
    "rej2 = sum(winners2 .== \"alternative\")"
   ]
  },
  {
   "cell_type": "code",
   "execution_count": 265,
   "id": "demonstrated-registration",
   "metadata": {},
   "outputs": [
    {
     "name": "stdout",
     "output_type": "stream",
     "text": [
      "type1_error = rej1 / ns = 0.012\n",
      "power = rej2 / ns = 0.677\n",
      "fdr = rej1 / (rej1 + rej2) = 0.01741654571843251\n",
      "mean((samplesizes1 .+ samplesizes2) ./ 2) = 301700.0\n"
     ]
    },
    {
     "data": {
      "text/plain": [
       "301700.0"
      ]
     },
     "execution_count": 265,
     "metadata": {},
     "output_type": "execute_result"
    }
   ],
   "source": [
    "@show type1_error = rej1 / ns;\n",
    "@show power = rej2 / ns;\n",
    "@show fdr = rej1 / (rej1 + rej2);\n",
    "@show mean((samplesizes1 .+ samplesizes2)./2)"
   ]
  },
  {
   "cell_type": "markdown",
   "id": "several-objective",
   "metadata": {},
   "source": [
    "The sample size calulated using Frequentist way:\n",
    "\n",
    "https://www.evanmiller.org/ab-testing/sample-size.html\n",
    "\n",
    "- base conversion rate: 9%\n",
    "- minimum detectable effect: 2%\n",
    "- power 1 - $\\beta$=65%\n",
    "- significance level $\\alpha$ = 2%\n",
    "- sample size: 372216"
   ]
  },
  {
   "cell_type": "code",
   "execution_count": 232,
   "id": "partial-adobe",
   "metadata": {},
   "outputs": [
    {
     "name": "stdout",
     "output_type": "stream",
     "text": [
      "type1_error = rej1 / ns = 0.023\n",
      "power = rej2 / ns = 0.551\n",
      "fdr = rej1 / (rej1 + rej2) = 0.04006968641114982\n",
      "mean((samplesizes1 .+ samplesizes2) ./ 2) = 343925.0\n"
     ]
    },
    {
     "data": {
      "text/plain": [
       "343925.0"
      ]
     },
     "execution_count": 232,
     "metadata": {},
     "output_type": "execute_result"
    }
   ],
   "source": [
    "@show type1_error = rej1 / ns;\n",
    "@show power = rej2 / ns;\n",
    "@show fdr = rej1 / (rej1 + rej2);\n",
    "@show mean((samplesizes1 .+ samplesizes2)./2)"
   ]
  },
  {
   "cell_type": "code",
   "execution_count": 308,
   "id": "instructional-dream",
   "metadata": {},
   "outputs": [
    {
     "data": {
      "text/plain": [
       "292.6041457250259"
      ]
     },
     "execution_count": 308,
     "metadata": {},
     "output_type": "execute_result"
    }
   ],
   "source": [
    "psd = pooledsd(293, 289, 321626, 35569)"
   ]
  },
  {
   "cell_type": "code",
   "execution_count": 134,
   "id": "sticky-passion",
   "metadata": {},
   "outputs": [
    {
     "data": {
      "text/plain": [
       "2-element StaticArrays.SArray{Tuple{2},NormalStatistics,1,2} with indices SOneTo(2):\n",
       " NormalStatistics(976400, 203, 1072)\n",
       " NormalStatistics(107420, 215, 1120)"
      ]
     },
     "execution_count": 134,
     "metadata": {},
     "output_type": "execute_result"
    }
   ],
   "source": [
    "twostats = TwoNormalStatistics(\n",
    "    NormalStatistics(meanx=203, n=976400, sdx=1072),\n",
    "    NormalStatistics(meanx=215, n=107420, sdx=1120)\n",
    ")"
   ]
  },
  {
   "cell_type": "code",
   "execution_count": 135,
   "id": "international-paradise",
   "metadata": {},
   "outputs": [
    {
     "data": {
      "text/plain": [
       "-0.011143583479134958"
      ]
     },
     "execution_count": 135,
     "metadata": {},
     "output_type": "execute_result"
    }
   ],
   "source": [
    "es = effectsize(twostats)"
   ]
  },
  {
   "cell_type": "code",
   "execution_count": 139,
   "id": "enormous-ecology",
   "metadata": {},
   "outputs": [
    {
     "data": {
      "text/plain": [
       "10.29875719657946"
      ]
     },
     "execution_count": 139,
     "metadata": {},
     "output_type": "execute_result"
    }
   ],
   "source": [
    "model = StudentTEffectSize(r=0.1)\n",
    "bayesfactor(model, StudentTStatistics(twostats))"
   ]
  },
  {
   "cell_type": "code",
   "execution_count": 138,
   "id": "shared-flight",
   "metadata": {},
   "outputs": [
    {
     "data": {
      "text/plain": [
       "12.993292520612217"
      ]
     },
     "execution_count": 138,
     "metadata": {},
     "output_type": "execute_result"
    }
   ],
   "source": [
    "model = NormalEffectSize(0.0, 0.1)\n",
    "bayesfactor(model, twostats)"
   ]
  },
  {
   "cell_type": "code",
   "execution_count": 225,
   "id": "accepted-hacker",
   "metadata": {},
   "outputs": [
    {
     "data": {
      "text/plain": [
       "0.09"
      ]
     },
     "execution_count": 225,
     "metadata": {},
     "output_type": "execute_result"
    }
   ],
   "source": [
    "p = 0.09"
   ]
  },
  {
   "cell_type": "code",
   "execution_count": 227,
   "id": "rising-helping",
   "metadata": {},
   "outputs": [
    {
     "data": {
      "text/plain": [
       "0.006289709020331509"
      ]
     },
     "execution_count": 227,
     "metadata": {},
     "output_type": "execute_result"
    }
   ],
   "source": [
    "p*0.02/ sqrt(p*(1-p))"
   ]
  },
  {
   "cell_type": "code",
   "execution_count": null,
   "id": "growing-effectiveness",
   "metadata": {},
   "outputs": [],
   "source": []
  }
 ],
 "metadata": {
  "kernelspec": {
   "display_name": "Julia 1.5.4",
   "language": "julia",
   "name": "julia-1.5"
  },
  "language_info": {
   "file_extension": ".jl",
   "mimetype": "application/julia",
   "name": "julia",
   "version": "1.5.4"
  }
 },
 "nbformat": 4,
 "nbformat_minor": 5
}
