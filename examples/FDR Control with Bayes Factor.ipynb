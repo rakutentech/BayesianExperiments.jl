{
 "cells": [
  {
   "cell_type": "code",
   "execution_count": 1,
   "metadata": {},
   "outputs": [
    {
     "name": "stderr",
     "output_type": "stream",
     "text": [
      "┌ Info: Precompiling BayesianExperiments [0200d6b2-355c-4cc6-8967-0ef505c43a9c]\n",
      "└ @ Base loading.jl:1278\n",
      "┌ Warning: Package BayesianExperiments does not have StaticArrays in its dependencies:\n",
      "│ - If you have BayesianExperiments checked out for development and have\n",
      "│   added StaticArrays as a dependency but haven't updated your primary\n",
      "│   environment's manifest file, try `Pkg.resolve()`.\n",
      "│ - Otherwise you may need to report an issue with BayesianExperiments\n",
      "└ Loading StaticArrays into BayesianExperiments from project dependency, future warnings for BayesianExperiments are suppressed.\n"
     ]
    }
   ],
   "source": [
    "using Random\n",
    "using Revise\n",
    "\n",
    "using BayesianExperiments\n",
    "Revise.track(BayesianExperiments)\n",
    "\n",
    "using Distributions: pdf, cdf\n",
    "using ProgressMeter: @showprogress"
   ]
  },
  {
   "cell_type": "code",
   "execution_count": 6,
   "metadata": {},
   "outputs": [],
   "source": [
    "Random.seed!(12)\n",
    "data1 = rand(Normal(0.01, 1), 100_000)\n",
    "data2 = rand(Normal(0.01, 1), 100_000);"
   ]
  },
  {
   "cell_type": "code",
   "execution_count": 5,
   "metadata": {},
   "outputs": [
    {
     "data": {
      "text/plain": [
       "NormalStatistics(200000, 0.008911898952613757, 1.0013483183212577)"
      ]
     },
     "execution_count": 5,
     "metadata": {},
     "output_type": "execute_result"
    }
   ],
   "source": [
    "s1 = NormalStatistics(data1)\n",
    "s2 = NormalStatistics(data2)\n",
    "\n",
    "s_split = update!(s1, s2)"
   ]
  },
  {
   "cell_type": "code",
   "execution_count": 6,
   "metadata": {},
   "outputs": [
    {
     "data": {
      "text/plain": [
       "NormalStatistics(200000, 0.008911898952613757, 1.0013483183212577)"
      ]
     },
     "execution_count": 6,
     "metadata": {},
     "output_type": "execute_result"
    }
   ],
   "source": [
    "s_split"
   ]
  },
  {
   "cell_type": "code",
   "execution_count": 7,
   "metadata": {},
   "outputs": [
    {
     "data": {
      "text/plain": [
       "NormalStatistics(200000, 0.008911898952613757, 1.001345814936292)"
      ]
     },
     "execution_count": 7,
     "metadata": {},
     "output_type": "execute_result"
    }
   ],
   "source": [
    "NormalStatistics([data1;data2])"
   ]
  },
  {
   "cell_type": "code",
   "execution_count": 8,
   "metadata": {},
   "outputs": [
    {
     "data": {
      "text/plain": [
       "calc_bf (generic function with 1 method)"
      ]
     },
     "execution_count": 8,
     "metadata": {},
     "output_type": "execute_result"
    }
   ],
   "source": [
    "function calc_bf(data)\n",
    "    stats = NormalStatistics(data)\n",
    "\n",
    "    model = EffectSizeModel(0.0, 0.1)\n",
    "    stoppingrule = BayesFactorThresh(5)\n",
    "    experiment = ExperimentBF(\n",
    "        model=model, p0=0.5, rule=stoppingrule, stats=stats)\n",
    "\n",
    "    bf = metrics(experiment)\n",
    "    \n",
    "    return bf\n",
    "end"
   ]
  },
  {
   "cell_type": "code",
   "execution_count": 9,
   "metadata": {},
   "outputs": [
    {
     "data": {
      "text/plain": [
       "1.0354127801663817"
      ]
     },
     "execution_count": 9,
     "metadata": {},
     "output_type": "execute_result"
    }
   ],
   "source": [
    "calc_bf(data1)"
   ]
  },
  {
   "cell_type": "code",
   "execution_count": 10,
   "metadata": {},
   "outputs": [
    {
     "data": {
      "text/plain": [
       "2.714478677744355"
      ]
     },
     "execution_count": 10,
     "metadata": {},
     "output_type": "execute_result"
    }
   ],
   "source": [
    "calc_bf(data2)"
   ]
  },
  {
   "cell_type": "code",
   "execution_count": 11,
   "metadata": {},
   "outputs": [
    {
     "data": {
      "text/plain": [
       "61.32577983782878"
      ]
     },
     "execution_count": 11,
     "metadata": {},
     "output_type": "execute_result"
    }
   ],
   "source": [
    "calc_bf([data1;data2])"
   ]
  },
  {
   "cell_type": "code",
   "execution_count": 12,
   "metadata": {},
   "outputs": [
    {
     "data": {
      "text/plain": [
       "1.0354127801663817"
      ]
     },
     "execution_count": 12,
     "metadata": {},
     "output_type": "execute_result"
    }
   ],
   "source": [
    "stats = NormalStatistics(data1)\n",
    "\n",
    "model = EffectSizeModel(0.0, 0.1)\n",
    "stoppingrule = BayesFactorThresh(5)\n",
    "experiment = ExperimentBF(\n",
    "    model=model, p0=0.5, rule=stoppingrule, stats=stats)\n",
    "\n",
    "bf = metrics(experiment)"
   ]
  },
  {
   "cell_type": "code",
   "execution_count": 13,
   "metadata": {},
   "outputs": [
    {
     "data": {
      "text/plain": [
       "false"
      ]
     },
     "execution_count": 13,
     "metadata": {},
     "output_type": "execute_result"
    }
   ],
   "source": [
    "decide!(experiment)"
   ]
  },
  {
   "cell_type": "code",
   "execution_count": 14,
   "metadata": {},
   "outputs": [
    {
     "data": {
      "text/plain": [
       "EffectSizeModel(0.0, 0.5)"
      ]
     },
     "execution_count": 14,
     "metadata": {},
     "output_type": "execute_result"
    }
   ],
   "source": [
    "model = EffectSizeModel(0.0, 0.5)"
   ]
  },
  {
   "cell_type": "code",
   "execution_count": 15,
   "metadata": {},
   "outputs": [
    {
     "name": "stdout",
     "output_type": "stream",
     "text": [
      "search: \u001b[0m\u001b[1mN\u001b[22m\u001b[0m\u001b[1mo\u001b[22m\u001b[0m\u001b[1mr\u001b[22m\u001b[0m\u001b[1mm\u001b[22m\u001b[0m\u001b[1ma\u001b[22m\u001b[0m\u001b[1ml\u001b[22m\u001b[0m\u001b[1mS\u001b[22m\u001b[0m\u001b[1mt\u001b[22m\u001b[0m\u001b[1ma\u001b[22m\u001b[0m\u001b[1mt\u001b[22m\u001b[0m\u001b[1mi\u001b[22m\u001b[0m\u001b[1ms\u001b[22m\u001b[0m\u001b[1mt\u001b[22m\u001b[0m\u001b[1mi\u001b[22m\u001b[0m\u001b[1mc\u001b[22m\u001b[0m\u001b[1ms\u001b[22m Log\u001b[0m\u001b[1mN\u001b[22m\u001b[0m\u001b[1mo\u001b[22m\u001b[0m\u001b[1mr\u001b[22m\u001b[0m\u001b[1mm\u001b[22m\u001b[0m\u001b[1ma\u001b[22m\u001b[0m\u001b[1ml\u001b[22m\u001b[0m\u001b[1mS\u001b[22m\u001b[0m\u001b[1mt\u001b[22m\u001b[0m\u001b[1ma\u001b[22m\u001b[0m\u001b[1mt\u001b[22m\u001b[0m\u001b[1mi\u001b[22m\u001b[0m\u001b[1ms\u001b[22m\u001b[0m\u001b[1mt\u001b[22m\u001b[0m\u001b[1mi\u001b[22m\u001b[0m\u001b[1mc\u001b[22m\u001b[0m\u001b[1ms\u001b[22m\n",
      "\n"
     ]
    },
    {
     "data": {
      "text/latex": [
       "No documentation found.\n",
       "\n",
       "\\section{Summary}\n",
       "\\begin{verbatim}\n",
       "struct NormalStatistics <: BayesianExperiments.ModelStatistics\n",
       "\\end{verbatim}\n",
       "\\section{Fields}\n",
       "\\begin{verbatim}\n",
       "n     :: Int64\n",
       "meanx :: Real\n",
       "sdx   :: Real\n",
       "\\end{verbatim}\n",
       "\\section{Supertype Hierarchy}\n",
       "\\begin{verbatim}\n",
       "NormalStatistics <: BayesianExperiments.ModelStatistics <: Any\n",
       "\\end{verbatim}\n"
      ],
      "text/markdown": [
       "No documentation found.\n",
       "\n",
       "# Summary\n",
       "\n",
       "```\n",
       "struct NormalStatistics <: BayesianExperiments.ModelStatistics\n",
       "```\n",
       "\n",
       "# Fields\n",
       "\n",
       "```\n",
       "n     :: Int64\n",
       "meanx :: Real\n",
       "sdx   :: Real\n",
       "```\n",
       "\n",
       "# Supertype Hierarchy\n",
       "\n",
       "```\n",
       "NormalStatistics <: BayesianExperiments.ModelStatistics <: Any\n",
       "```\n"
      ],
      "text/plain": [
       "  No documentation found.\n",
       "\n",
       "\u001b[1m  Summary\u001b[22m\n",
       "\u001b[1m  ≡≡≡≡≡≡≡≡≡\u001b[22m\n",
       "\n",
       "\u001b[36m  struct NormalStatistics <: BayesianExperiments.ModelStatistics\u001b[39m\n",
       "\n",
       "\u001b[1m  Fields\u001b[22m\n",
       "\u001b[1m  ≡≡≡≡≡≡≡≡\u001b[22m\n",
       "\n",
       "\u001b[36m  n     :: Int64\u001b[39m\n",
       "\u001b[36m  meanx :: Real\u001b[39m\n",
       "\u001b[36m  sdx   :: Real\u001b[39m\n",
       "\n",
       "\u001b[1m  Supertype Hierarchy\u001b[22m\n",
       "\u001b[1m  ≡≡≡≡≡≡≡≡≡≡≡≡≡≡≡≡≡≡≡≡≡\u001b[22m\n",
       "\n",
       "\u001b[36m  NormalStatistics <: BayesianExperiments.ModelStatistics <: Any\u001b[39m"
      ]
     },
     "execution_count": 15,
     "metadata": {},
     "output_type": "execute_result"
    }
   ],
   "source": [
    "?NormalStatistics"
   ]
  },
  {
   "cell_type": "code",
   "execution_count": 16,
   "metadata": {},
   "outputs": [
    {
     "name": "stdout",
     "output_type": "stream",
     "text": [
      "search: \u001b[0m\u001b[1mE\u001b[22m\u001b[0m\u001b[1mf\u001b[22m\u001b[0m\u001b[1mf\u001b[22m\u001b[0m\u001b[1me\u001b[22m\u001b[0m\u001b[1mc\u001b[22m\u001b[0m\u001b[1mt\u001b[22m\u001b[0m\u001b[1mS\u001b[22m\u001b[0m\u001b[1mi\u001b[22m\u001b[0m\u001b[1mz\u001b[22m\u001b[0m\u001b[1me\u001b[22m\u001b[0m\u001b[1mM\u001b[22m\u001b[0m\u001b[1mo\u001b[22m\u001b[0m\u001b[1md\u001b[22m\u001b[0m\u001b[1me\u001b[22m\u001b[0m\u001b[1ml\u001b[22m\n",
      "\n"
     ]
    },
    {
     "data": {
      "text/latex": [
       "\\begin{verbatim}\n",
       "EffectSizeModel <: ProbabilisticModel\n",
       "\\end{verbatim}\n",
       "A standard effect size model has two hypotheses: $H_1$(null) an $H_2$(alternative):\n",
       "\n",
       "\\begin{itemize}\n",
       "\\item[1. ] $H_1$: $\\mu = m_0$\n",
       "\n",
       "\n",
       "\\item[2. ] $H_2$: $\\mu ≠ m_0$\n",
       "\n",
       "\\end{itemize}\n",
       "with the population mean $\\mu$ and pre-specified standard deviation $\\sigma$. We want to test whether  $\\mu$ is equal to $m_0$ or not.\n",
       "\n",
       "The prior of the standard effect size is \n",
       "\n",
       "$\\delta | H_2 \\sim \\text{Normal}(0, n_0)$\n",
       "\n",
       "where $\\delta$ is the standard effect size and $n_0$ can be considered as a prior sample size.  The standard effect size $\\delta$ is defined as \n",
       "\n",
       "$\\delta = \\frac{\\mu - m_0}{\\sigma}.$\n",
       "\n",
       "In practice, the standard deviations are unknown but in large sample scenario we assume  they are known and use their estimates.\n",
       "\n",
       "\\subsection{Fileds}\n",
       "\\begin{itemize}\n",
       "\\item \\texttt{μ0}: mean of null hypothesis\n",
       "\n",
       "\n",
       "\\item \\texttt{n0}: Prior sample size. \\texttt{1/n0} is the prior standard deviation.\n",
       "\n",
       "\\end{itemize}\n",
       "\\subsection{References}\n",
       "\\begin{itemize}\n",
       "\\item[1. ] \\href{  https://statswithr.github.io/book/hypothesis-testing-with-normal-populations.html}{Chapter 5 hypothesis Testing with Normal Populations}   in \\emph{An Introduction to Bayesian Thinking}.\n",
       "\n",
       "\n",
       "\\item[2. ] Deng, Alex, Jiannan Lu, and Shouyuan Chen. \"Continuous monitoring of A/B tests without pain:  Optional stopping in Bayesian testing.\" 2016 IEEE international conference on data science  and advanced analytics (DSAA). IEEE, 2016.\n",
       "\n",
       "\\end{itemize}\n"
      ],
      "text/markdown": [
       "```\n",
       "EffectSizeModel <: ProbabilisticModel\n",
       "```\n",
       "\n",
       "A standard effect size model has two hypotheses: $H_1$(null) an $H_2$(alternative):\n",
       "\n",
       "1. $H_1$: $\\mu = m_0$\n",
       "2. $H_2$: $\\mu ≠ m_0$\n",
       "\n",
       "with the population mean $\\mu$ and pre-specified standard deviation $\\sigma$. We want to test whether  $\\mu$ is equal to $m_0$ or not.\n",
       "\n",
       "The prior of the standard effect size is \n",
       "\n",
       "$\\delta | H_2 \\sim \\text{Normal}(0, n_0)$\n",
       "\n",
       "where $\\delta$ is the standard effect size and $n_0$ can be considered as a prior sample size.  The standard effect size $\\delta$ is defined as \n",
       "\n",
       "$\\delta = \\frac{\\mu - m_0}{\\sigma}.$\n",
       "\n",
       "In practice, the standard deviations are unknown but in large sample scenario we assume  they are known and use their estimates.\n",
       "\n",
       "## Fileds\n",
       "\n",
       "  * `μ0`: mean of null hypothesis\n",
       "  * `n0`: Prior sample size. `1/n0` is the prior standard deviation.\n",
       "\n",
       "## References\n",
       "\n",
       "1. [Chapter 5 hypothesis Testing with Normal Populations](  https://statswithr.github.io/book/hypothesis-testing-with-normal-populations.html)   in *An Introduction to Bayesian Thinking*.\n",
       "2. Deng, Alex, Jiannan Lu, and Shouyuan Chen. \"Continuous monitoring of A/B tests without pain:  Optional stopping in Bayesian testing.\" 2016 IEEE international conference on data science  and advanced analytics (DSAA). IEEE, 2016.\n"
      ],
      "text/plain": [
       "\u001b[36m  EffectSizeModel <: ProbabilisticModel\u001b[39m\n",
       "\n",
       "  A standard effect size model has two hypotheses: \u001b[35mH_1\u001b[39m(null) an\n",
       "  \u001b[35mH_2\u001b[39m(alternative):\n",
       "\n",
       "    1.   \u001b[35mH_1\u001b[39m: \u001b[35m\\mu = m_0\u001b[39m\n",
       "\n",
       "    2.   \u001b[35mH_2\u001b[39m: \u001b[35m\\mu ≠ m_0\u001b[39m\n",
       "\n",
       "  with the population mean \u001b[35m\\mu\u001b[39m and pre-specified standard deviation \u001b[35m\\sigma\u001b[39m. We\n",
       "  want to test whether \u001b[35m\\mu\u001b[39m is equal to \u001b[35mm_0\u001b[39m or not.\n",
       "\n",
       "  The prior of the standard effect size is \n",
       "\n",
       "  \u001b[35m\\delta | H_2 \\sim \\text{Normal}(0, n_0)\u001b[39m\n",
       "\n",
       "  where \u001b[35m\\delta\u001b[39m is the standard effect size and \u001b[35mn_0\u001b[39m can be considered as a\n",
       "  prior sample size. The standard effect size \u001b[35m\\delta\u001b[39m is defined as \n",
       "\n",
       "  \u001b[35m\\delta = \\frac{\\mu - m_0}{\\sigma}.\u001b[39m\n",
       "\n",
       "  In practice, the standard deviations are unknown but in large sample\n",
       "  scenario we assume they are known and use their estimates.\n",
       "\n",
       "\u001b[1m  Fileds\u001b[22m\n",
       "\u001b[1m  ========\u001b[22m\n",
       "\n",
       "    •    \u001b[36mμ0\u001b[39m: mean of null hypothesis\n",
       "\n",
       "    •    \u001b[36mn0\u001b[39m: Prior sample size. \u001b[36m1/n0\u001b[39m is the prior standard deviation.\n",
       "\n",
       "\u001b[1m  References\u001b[22m\n",
       "\u001b[1m  ============\u001b[22m\n",
       "\n",
       "    1.   Chapter 5 hypothesis Testing with Normal Populations (\n",
       "       \n",
       "      https://statswithr.github.io/book/hypothesis-testing-with-normal-populations.html)\n",
       "        in \u001b[4mAn Introduction to Bayesian Thinking\u001b[24m.\n",
       "\n",
       "    2.   Deng, Alex, Jiannan Lu, and Shouyuan Chen. \"Continuous monitoring\n",
       "        of A/B tests without pain: Optional stopping in Bayesian testing.\"\n",
       "        2016 IEEE international conference on data science and advanced\n",
       "        analytics (DSAA). IEEE, 2016."
      ]
     },
     "execution_count": 16,
     "metadata": {},
     "output_type": "execute_result"
    }
   ],
   "source": [
    "?EffectSizeModel"
   ]
  },
  {
   "cell_type": "code",
   "execution_count": 18,
   "metadata": {},
   "outputs": [
    {
     "name": "stdout",
     "output_type": "stream",
     "text": [
      "n0 = 32.7 ^ 2 = 1069.2900000000002\n",
      "δ = effectsize(stats, μ0 = m0) = 0.00035399999999996545\n",
      "z = δ * sqrt(n) = 3.618600397943581\n",
      "sqrt(σ0 ^ 2 + 1 / n) = 0.030581196229255123\n",
      "sqrt(1 / n) = 9.782787848062487e-5\n"
     ]
    },
    {
     "data": {
      "text/plain": [
       "9.782787848062487e-5"
      ]
     },
     "execution_count": 18,
     "metadata": {},
     "output_type": "execute_result"
    }
   ],
   "source": [
    "@show n0 = 32.7^2\n",
    "m0 = 0.5\n",
    "x̄ = 0.500177\n",
    "σ = 0.5\n",
    "n = 1.0449e8;\n",
    "σ0 = 1/sqrt(n0)\n",
    "\n",
    "stats = NormalStatistics(n=1.0449e8, meanx=x̄, sdx=σ)\n",
    "@show δ = effectsize(stats, μ0=m0)\n",
    "@show z = δ*sqrt(n)\n",
    "@show sqrt(σ0^2+1/n)\n",
    "@show sqrt(1/n)"
   ]
  },
  {
   "cell_type": "markdown",
   "metadata": {},
   "source": [
    "These two formula is identical:"
   ]
  },
  {
   "cell_type": "code",
   "execution_count": 19,
   "metadata": {},
   "outputs": [
    {
     "name": "stdout",
     "output_type": "stream",
     "text": [
      "bf21 = 2.2303006941904915\n",
      "bf12 = 1 / bf21 = 0.44837003485889126\n"
     ]
    }
   ],
   "source": [
    "bf12 = sqrt((n+n0)/n0)*exp(-0.5*n/(n+n0)*n*δ^2)\n",
    "bf21 = 1/bf12\n",
    "\n",
    "@show bf21\n",
    "@show bf12 = 1/ bf21;"
   ]
  },
  {
   "cell_type": "code",
   "execution_count": 20,
   "metadata": {},
   "outputs": [
    {
     "data": {
      "text/plain": [
       "EffectSizeModel(0.5, 0.030581039755351678)"
      ]
     },
     "execution_count": 20,
     "metadata": {},
     "output_type": "execute_result"
    }
   ],
   "source": [
    "model = EffectSizeModel(m0, σ0)"
   ]
  },
  {
   "cell_type": "code",
   "execution_count": 21,
   "metadata": {},
   "outputs": [
    {
     "data": {
      "text/plain": [
       "2.2303006941904906"
      ]
     },
     "execution_count": 21,
     "metadata": {},
     "output_type": "execute_result"
    }
   ],
   "source": [
    "bayesfactor(model, stats)"
   ]
  },
  {
   "cell_type": "code",
   "execution_count": 22,
   "metadata": {},
   "outputs": [
    {
     "data": {
      "text/plain": [
       "bf2 (generic function with 1 method)"
      ]
     },
     "execution_count": 22,
     "metadata": {},
     "output_type": "execute_result"
    }
   ],
   "source": [
    "bf2(es, n, n0) = \n",
    "    sqrt((n+n0)/n0)*exp(-0.5*n/(n+n0)*n*es^2)"
   ]
  },
  {
   "cell_type": "code",
   "execution_count": 23,
   "metadata": {
    "scrolled": true
   },
   "outputs": [
    {
     "name": "stdout",
     "output_type": "stream",
     "text": [
      "bf12 = bf2(δ, n, n0) = 0.44837003485889126\n",
      "bf21 = 1 / bf12 = 2.2303006941904915\n"
     ]
    },
    {
     "data": {
      "text/plain": [
       "2.2303006941904915"
      ]
     },
     "execution_count": 23,
     "metadata": {},
     "output_type": "execute_result"
    }
   ],
   "source": [
    "@show bf12  = bf2(δ, n, n0)\n",
    "@show bf21 = 1/bf12"
   ]
  },
  {
   "cell_type": "markdown",
   "metadata": {},
   "source": [
    "## FDR control"
   ]
  },
  {
   "cell_type": "code",
   "execution_count": 58,
   "metadata": {},
   "outputs": [
    {
     "data": {
      "text/plain": [
       "sample_bf_composite (generic function with 1 method)"
      ]
     },
     "execution_count": 58,
     "metadata": {},
     "output_type": "execute_result"
    }
   ],
   "source": [
    "function sample_bf_composite(δs, n, ns; σ=1, σ0=0.1, thresh=9)\n",
    "    numruns = []\n",
    "    rejections = []\n",
    "    model = EffectSizeModel(0.0, σ0)\n",
    "    @showprogress for δ in δs\n",
    "        i = 100\n",
    "        xs = rand(Normal(δ, 1), n)\n",
    "        stoppingrule = BayesFactorThresh(thresh)\n",
    "        experiment = ExperimentBF(model=model, rule=stoppingrule)\n",
    "        while (i < n) && (experiment.rejection==false)\n",
    "            i += 1\n",
    "            stats = NormalStatistics(xs[1:i])\n",
    "#             stats = NormalStatistics(meanx = mean(xs[1:i]), sdx=σ, n=i)\n",
    "            #update!(experiment, stats)\n",
    "            experiment.stats = stats\n",
    "            decide!(experiment)\n",
    "        end\n",
    "        push!(numruns, i)\n",
    "        push!(rejections, experiment.rejection)\n",
    "    end\n",
    "    numruns, rejections\n",
    "end"
   ]
  },
  {
   "cell_type": "code",
   "execution_count": 1,
   "metadata": {},
   "outputs": [
    {
     "ename": "LoadError",
     "evalue": "UndefVarError: sample_bf_composite not defined",
     "output_type": "error",
     "traceback": [
      "UndefVarError: sample_bf_composite not defined",
      "",
      "Stacktrace:",
      " [1] top-level scope at In[1]:6",
      " [2] include_string(::Function, ::Module, ::String, ::String) at ./loading.jl:1091"
     ]
    }
   ],
   "source": [
    "n  = 1000\n",
    "ns = 5000\n",
    "thresh = 9\n",
    "σ0 = 0.1\n",
    "\n",
    "numruns1, rej1 = sample_bf_composite(zeros(ns), n, ns, thresh=thresh);\n",
    "deltas = rand(Normal(0, 0.1), ns);\n",
    "numruns2, rej2 = sample_bf_composite(deltas, n, ns, thresh=thresh);"
   ]
  },
  {
   "cell_type": "code",
   "execution_count": 60,
   "metadata": {},
   "outputs": [
    {
     "name": "stdout",
     "output_type": "stream",
     "text": [
      "num_false_dis = sum(rej1 .=== true) = 263\n",
      "num_true_dis = sum(rej2 .=== true) = 2514\n",
      "\n",
      "Type I Error: 0.0526\n",
      "Power       : 0.5028\n",
      "FDR         : 0.094706517824991\n"
     ]
    }
   ],
   "source": [
    "@show num_false_dis = sum(rej1 .=== true)\n",
    "@show num_true_dis  = sum(rej2 .=== true)\n",
    "\n",
    "println(\"\\nType I Error: \", num_false_dis / ns)\n",
    "println(\"Power       : \",   num_true_dis / ns)\n",
    "println(\"FDR         : \",   num_false_dis / (num_true_dis + num_false_dis))"
   ]
  },
  {
   "cell_type": "code",
   "execution_count": 61,
   "metadata": {},
   "outputs": [
    {
     "name": "stderr",
     "output_type": "stream",
     "text": [
      "┌ Error: Failed to revise /Users/jiangtao.fu/Downloads/BayesianExperiments.jl/src/model.jl\n",
      "│   exception = Revise.ReviseEvalException(\"/Users/jiangtao.fu/Downloads/BayesianExperiments.jl/examples/none:0\", ErrorException(\"invalid redefinition of constant EffectSizeModel\"), Any[(top-level scope at none:0, 1)])\n",
      "└ @ Revise /Users/jiangtao.fu/.julia/packages/Revise/moD4B/src/packagedef.jl:707\n",
      "┌ Warning: The running code does not match the saved version for the following files:\n",
      "│ \n",
      "│   /Users/jiangtao.fu/Downloads/BayesianExperiments.jl/src/model.jl\n",
      "│ \n",
      "│ If the error was due to evaluation order, it can sometimes be resolved by calling `Revise.retry()`.\n",
      "│ Use Revise.errors() to report errors again. Only the first error in each file is shown.\n",
      "│ Your prompt color may be yellow until the errors are resolved.\n",
      "└ @ Revise /Users/jiangtao.fu/.julia/packages/Revise/moD4B/src/packagedef.jl:805\n"
     ]
    },
    {
     "ename": "LoadError",
     "evalue": "MethodError: no method matching bayesfactor(::EffectSizeModel, ::NormalStatistics)",
     "output_type": "error",
     "traceback": [
      "MethodError: no method matching bayesfactor(::EffectSizeModel, ::NormalStatistics)",
      "",
      "Stacktrace:",
      " [1] bayesfactor(::ExperimentBF{EffectSizeModel}) at /Users/jiangtao.fu/Downloads/BayesianExperiments.jl/src/experiment.jl:131",
      " [2] top-level scope at ./In[61]:7",
      " [3] include_string(::Function, ::Module, ::String, ::String) at ./loading.jl:1091"
     ]
    }
   ],
   "source": [
    "xs = rand(Normal(0.0, 1), 1000)\n",
    "\n",
    "bfs = []\n",
    "for i in 2:1000\n",
    "    stats = NormalStatistics(xs[1:i])\n",
    "    update!(experiment, stats)\n",
    "    push!(bfs, bayesfactor(experiment))\n",
    "    decide!(experient)\n",
    "end"
   ]
  },
  {
   "cell_type": "code",
   "execution_count": 2,
   "metadata": {},
   "outputs": [
    {
     "data": {
      "text/plain": [
       "4-element Array{Int64,1}:\n",
       " 56\n",
       " 60\n",
       " 62\n",
       " 66"
      ]
     },
     "execution_count": 2,
     "metadata": {},
     "output_type": "execute_result"
    }
   ],
   "source": [
    "gradesA = [55, 65, 65, 68, 70]\n",
    "gradesB = [56, 60, 62, 66]"
   ]
  },
  {
   "cell_type": "code",
   "execution_count": 3,
   "metadata": {},
   "outputs": [
    {
     "data": {
      "text/plain": [
       "2-element StaticArrays.SArray{Tuple{2},NormalStatistics,1,2} with indices SOneTo(2):\n",
       " NormalStatistics(5, 64.6, 5.770615218501404)\n",
       " NormalStatistics(4, 61.0, 4.163331998932265)"
      ]
     },
     "execution_count": 3,
     "metadata": {},
     "output_type": "execute_result"
    }
   ],
   "source": [
    "twosamplestats = TwoSampleStatistics(NormalStatistics(gradesA), NormalStatistics(gradesB))"
   ]
  },
  {
   "cell_type": "code",
   "execution_count": 5,
   "metadata": {},
   "outputs": [
    {
     "data": {
      "text/plain": [
       "0.6998920003079266"
      ]
     },
     "execution_count": 5,
     "metadata": {},
     "output_type": "execute_result"
    }
   ],
   "source": [
    "effectsize(twosamplestats)"
   ]
  },
  {
   "cell_type": "code",
   "execution_count": 6,
   "metadata": {},
   "outputs": [
    {
     "data": {
      "text/plain": [
       "2-element StaticArrays.SArray{Tuple{2},NormalStatistics,1,2} with indices SOneTo(2):\n",
       " NormalStatistics(133, 28.8, 13.5)\n",
       " NormalStatistics(867, 30.6, 14.3)"
      ]
     },
     "execution_count": 6,
     "metadata": {},
     "output_type": "execute_result"
    }
   ],
   "source": [
    "stats = TwoSampleStatistics(\n",
    "    NormalStatistics(meanx=28.8, sdx=13.5, n=133),\n",
    "    NormalStatistics(meanx=30.6, sdx=14.3, n=867)\n",
    ")"
   ]
  },
  {
   "cell_type": "code",
   "execution_count": 7,
   "metadata": {},
   "outputs": [
    {
     "data": {
      "text/plain": [
       "-0.1267893536694397"
      ]
     },
     "execution_count": 7,
     "metadata": {},
     "output_type": "execute_result"
    }
   ],
   "source": [
    "effectsize(stats)"
   ]
  },
  {
   "cell_type": "code",
   "execution_count": 8,
   "metadata": {},
   "outputs": [
    {
     "name": "stdout",
     "output_type": "stream",
     "text": [
      "search: \u001b[0m\u001b[1mb\u001b[22m\u001b[0m\u001b[1ma\u001b[22m\u001b[0m\u001b[1my\u001b[22m\u001b[0m\u001b[1me\u001b[22m\u001b[0m\u001b[1ms\u001b[22m\u001b[0m\u001b[1mf\u001b[22m\u001b[0m\u001b[1ma\u001b[22m\u001b[0m\u001b[1mc\u001b[22m\u001b[0m\u001b[1mt\u001b[22m\u001b[0m\u001b[1mo\u001b[22m\u001b[0m\u001b[1mr\u001b[22m \u001b[0m\u001b[1mB\u001b[22m\u001b[0m\u001b[1ma\u001b[22m\u001b[0m\u001b[1my\u001b[22m\u001b[0m\u001b[1me\u001b[22m\u001b[0m\u001b[1ms\u001b[22m\u001b[0m\u001b[1mF\u001b[22m\u001b[0m\u001b[1ma\u001b[22m\u001b[0m\u001b[1mc\u001b[22m\u001b[0m\u001b[1mt\u001b[22m\u001b[0m\u001b[1mo\u001b[22m\u001b[0m\u001b[1mr\u001b[22mThresh\n",
      "\n"
     ]
    },
    {
     "data": {
      "text/latex": [
       "No documentation found.\n",
       "\n",
       "\\texttt{BayesianExperiments.bayesfactor} is a \\texttt{Function}.\n",
       "\n",
       "\\begin{verbatim}\n",
       "# 2 methods for generic function \"bayesfactor\":\n",
       "[1] bayesfactor(model::EffectSizeModel, stats::NormalStatistics) in BayesianExperiments at /Users/jiangtao.fu/Downloads/BayesianExperiments.jl/src/model.jl:315\n",
       "[2] bayesfactor(experiment::ExperimentBF) in BayesianExperiments at /Users/jiangtao.fu/Downloads/BayesianExperiments.jl/src/experiment.jl:129\n",
       "\\end{verbatim}\n"
      ],
      "text/markdown": [
       "No documentation found.\n",
       "\n",
       "`BayesianExperiments.bayesfactor` is a `Function`.\n",
       "\n",
       "```\n",
       "# 2 methods for generic function \"bayesfactor\":\n",
       "[1] bayesfactor(model::EffectSizeModel, stats::NormalStatistics) in BayesianExperiments at /Users/jiangtao.fu/Downloads/BayesianExperiments.jl/src/model.jl:315\n",
       "[2] bayesfactor(experiment::ExperimentBF) in BayesianExperiments at /Users/jiangtao.fu/Downloads/BayesianExperiments.jl/src/experiment.jl:129\n",
       "```\n"
      ],
      "text/plain": [
       "  No documentation found.\n",
       "\n",
       "  \u001b[36mBayesianExperiments.bayesfactor\u001b[39m is a \u001b[36mFunction\u001b[39m.\n",
       "\n",
       "\u001b[36m  # 2 methods for generic function \"bayesfactor\":\u001b[39m\n",
       "\u001b[36m  [1] bayesfactor(model::EffectSizeModel, stats::NormalStatistics) in BayesianExperiments at /Users/jiangtao.fu/Downloads/BayesianExperiments.jl/src/model.jl:315\u001b[39m\n",
       "\u001b[36m  [2] bayesfactor(experiment::ExperimentBF) in BayesianExperiments at /Users/jiangtao.fu/Downloads/BayesianExperiments.jl/src/experiment.jl:129\u001b[39m"
      ]
     },
     "execution_count": 8,
     "metadata": {},
     "output_type": "execute_result"
    }
   ],
   "source": [
    "?bayesfactor"
   ]
  },
  {
   "cell_type": "code",
   "execution_count": null,
   "metadata": {},
   "outputs": [],
   "source": [
    "\n",
    "\"\"\"\n",
    "## References\n",
    "\n",
    "- https://www.jmp.com/en_ch/statistics-knowledge-portal/t-test/two-sample-t-test.html\n",
    "- https://en.wikipedia.org/wiki/Student%27s_t-test#Independent_two-sample_t-test\n",
    "\"\"\"\n",
    "function tstat_twosample_pooled(x̄1, x̄2, sd1, sd2, n1, n2)\n",
    "    es = effectsize(x̄1 - x̄2, pooledsd(sd1, sd2, n1, n2))\n",
    "    ess = effsamplesize(n1, n2)\n",
    "    es * sqrt(ess)\n",
    "end\n",
    "\n",
    "function tstat_twosample_welch(x̄1, x̄2, sd1, sd2, n1, n2)\n",
    "    se = sqrt(sd1^2/n1 + sd2^2/n2)\n",
    "    (x̄1 - x̄2) / se\n",
    "end\n",
    "\n",
    "function bayesfactor_ttest(t, v, n; r=0.707, rtol=1e-8)\n",
    "    numerator = (1 + t^2/v)^(-(v+1)/2)\n",
    "    denominator, _ = quadgk(\n",
    "        g -> (1+n*g*r^2)^(-0.5) * (1+t^2/((1+n*g*r^2)*v))^(-(v+1)/2) \n",
    "            * (2π)^(-0.5) * g^(-1.5) * exp(-1/(2*g)),\n",
    "        0, Inf,\n",
    "        rtol=rtol)\n",
    "  # we take invserse to get b_1_0, instead of b_0_1\n",
    "  denominator/numerator\n",
    "end"
   ]
  }
 ],
 "metadata": {
  "kernelspec": {
   "display_name": "Julia 1.5.3",
   "language": "julia",
   "name": "julia-1.5"
  },
  "language_info": {
   "file_extension": ".jl",
   "mimetype": "application/julia",
   "name": "julia",
   "version": "1.5.3"
  }
 },
 "nbformat": 4,
 "nbformat_minor": 2
}
