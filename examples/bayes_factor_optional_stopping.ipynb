{
 "cells": [
  {
   "cell_type": "markdown",
   "metadata": {},
   "source": [
    "# Bayes Factor Experiment with Optional Stopping"
   ]
  },
  {
   "cell_type": "code",
   "execution_count": 1,
   "metadata": {},
   "outputs": [],
   "source": [
    "using ProgressMeter: @showprogress\n",
    "using DataFrames\n",
    "\n",
    "using Plots\n",
    "using Random\n",
    "using BayesianExperiments\n",
    "\n",
    "# number of columns in a dataframe to show \n",
    "ENV[\"COLUMNS\"] = 200;"
   ]
  },
  {
   "cell_type": "markdown",
   "metadata": {},
   "source": [
    "Optional stopping refers to the practice of peeking at data and make decision whether or not to continue an experiment. Such practice is usually prohibited in the frequentist AB testing framework. By using simulation-based result, *Rouder (2014)*[2] showed that a Bayes factor experiment with optional stopping can be valid with proper interpretation of the Bayesian quantities. \n",
    "\n",
    "This notebook follows the examples in *Schönbrodt et al. (2016)*[1] to conduct the error analysis of Bayes factor based experiment with optional stopping.\n",
    "\n",
    "The simulation will be conducted by following steps:\n",
    "\n",
    "1. Choose a threshold of Bayes factor for decision making. For example, if the threshold is set to 10, when a Bayes factor of $\\text{BF}_{10}$ is larger than 10, or less than 1/10, we decide we have collected enough evidence and stop the experiment.\n",
    "2. Choose a prior distribituion for the effect size under $H_1$. We will use the `StudentTEffectSize` model in the package. You can check the definition of `NormalEffectSize` model from the docstring by typing `?NormalEffectSize`.\n",
    "3. Run a minimum number of steps (20 as the same in the paper), increase the sample size. Compute the bayes factor at each step.\n",
    "4. As soon as the bayes factor value reached or exceeded the one of the thresholds as set in (1), or the maximum number of steps is reached, we will stop the experiment.\n",
    "\n",
    "Some constants used in the simulation:\n",
    "\n",
    "* Number of simulations: 5000\n",
    "* Minimum number of steps: 20"
   ]
  },
  {
   "cell_type": "markdown",
   "metadata": {},
   "source": [
    "The simulation function can be quickly created based on our package:"
   ]
  },
  {
   "cell_type": "code",
   "execution_count": 2,
   "metadata": {},
   "outputs": [
    {
     "data": {
      "text/plain": [
       "simulate (generic function with 1 method)"
      ]
     },
     "execution_count": 2,
     "metadata": {},
     "output_type": "execute_result"
    }
   ],
   "source": [
    "function simulate(δ, n, σ0; r=0.707, thresh=9, minsample=20)\n",
    "    # we will use two-sided decision rule for bayes factor\n",
    "    rule = TwoSidedBFThresh(thresh)\n",
    "    \n",
    "    # the prior distribution of effect size,\n",
    "    # r is the standard deviation\n",
    "    model = StudentTEffectSize(r=r)\n",
    "    \n",
    "    # setup the experiment\n",
    "    experiment = ExperimentBF(model=model, rule=rule)\n",
    "    \n",
    "    # create a sample with size n, the effect size is \n",
    "    # specified as δ\n",
    "    xs = rand(Normal(δ, 1), n)\n",
    "    \n",
    "    i = 0\n",
    "    # specify the stopping condition\n",
    "    while (i < n) & (experiment.winner === nothing)\n",
    "        i += 1\n",
    "        \n",
    "        # if minimum number of sample is not reached, \n",
    "        # keep collecting data\n",
    "        if i < minsample\n",
    "            continue\n",
    "        end\n",
    "        \n",
    "        stats = NormalStatistics(xs[1:i])\n",
    "        experiment.stats = stats\n",
    "        decide!(experiment)\n",
    "    end\n",
    "    experiment\n",
    "end\n"
   ]
  },
  {
   "cell_type": "markdown",
   "metadata": {},
   "source": [
    "## Case when alternative $\\delta = 0$"
   ]
  },
  {
   "cell_type": "markdown",
   "metadata": {},
   "source": [
    "When alternative $\\delta > 0$, the error rate relates to the false positive rate. "
   ]
  },
  {
   "cell_type": "code",
   "execution_count": 3,
   "metadata": {
    "scrolled": true
   },
   "outputs": [
    {
     "name": "stdout",
     "output_type": "stream",
     "text": [
      "length(paramsgrid) = 12\n"
     ]
    }
   ],
   "source": [
    "#deltas = collect(range(0, 1.5, step=0.2));\n",
    "delta = 0.0\n",
    "rs = [0.707, 1.0, 1.414];\n",
    "threshs = [3, 5, 7, 10];\n",
    "totalnum = length(rs)*length(threshs);\n",
    "\n",
    "paramsgrid = reshape(collect(Base.Iterators.product(rs, threshs)), (totalnum, 1));\n",
    "paramsgrid = [(r=r, thresh=thresh) for (r, thresh) in paramsgrid];\n",
    "@show length(paramsgrid);"
   ]
  },
  {
   "cell_type": "code",
   "execution_count": 4,
   "metadata": {},
   "outputs": [
    {
     "name": "stderr",
     "output_type": "stream",
     "text": [
      "\u001b[32mProgress: 100%|█████████████████████████████████████████| Time: 0:01:00\u001b[39m\n"
     ]
    }
   ],
   "source": [
    "n =  1000\n",
    "ns = 5000\n",
    "minsample = 20\n",
    "\n",
    "sim_result1 = DataFrame(\n",
    "    delta=Float64[], \n",
    "    r=Float64[], \n",
    "    thresh=Float64[], \n",
    "    num_sim=Int64[], \n",
    "    num_null=Int64[], \n",
    "    num_alt=Int64[],\n",
    "    err_rate=Float64[], \n",
    "    avg_sample_size=Int64[])\n",
    "\n",
    "@showprogress for params in paramsgrid\n",
    "    delta = 0\n",
    "    r = params.r\n",
    "    thresh = params.thresh\n",
    "    winners = []\n",
    "    samplesizes = []\n",
    "    for _ in 1:ns\n",
    "        experiment = simulate(delta, n, r, thresh=thresh, minsample=minsample)\n",
    "        push!(winners, experiment.winner)\n",
    "        push!(samplesizes, experiment.stats.n)\n",
    "    end\n",
    "    \n",
    "    num_null = sum(winners .== \"null\")\n",
    "    num_alt = sum(winners .== \"alternative\")\n",
    "    \n",
    "    err_rate = num_alt/ns\n",
    "    avg_sample_size = mean(samplesizes)\n",
    "    push!(sim_result1, (delta, r, thresh, ns, num_null, num_alt, err_rate, convert(Int64, round(avg_sample_size))))\n",
    "end"
   ]
  },
  {
   "cell_type": "code",
   "execution_count": 5,
   "metadata": {},
   "outputs": [
    {
     "data": {
      "text/html": [
       "<table class=\"data-frame\"><thead><tr><th></th><th>delta</th><th>r</th><th>thresh</th><th>num_sim</th><th>num_null</th><th>num_alt</th><th>err_rate</th><th>avg_sample_size</th></tr><tr><th></th><th>Float64</th><th>Float64</th><th>Float64</th><th>Int64</th><th>Int64</th><th>Int64</th><th>Float64</th><th>Int64</th></tr></thead><tbody><p>12 rows × 8 columns</p><tr><th>1</th><td>0.0</td><td>0.707</td><td>3.0</td><td>5000</td><td>4666</td><td>334</td><td>0.0668</td><td>24</td></tr><tr><th>2</th><td>0.0</td><td>1.0</td><td>3.0</td><td>5000</td><td>4691</td><td>309</td><td>0.0618</td><td>24</td></tr><tr><th>3</th><td>0.0</td><td>1.414</td><td>3.0</td><td>5000</td><td>4714</td><td>286</td><td>0.0572</td><td>24</td></tr><tr><th>4</th><td>0.0</td><td>0.707</td><td>5.0</td><td>5000</td><td>4727</td><td>273</td><td>0.0546</td><td>48</td></tr><tr><th>5</th><td>0.0</td><td>1.0</td><td>5.0</td><td>5000</td><td>4743</td><td>256</td><td>0.0512</td><td>48</td></tr><tr><th>6</th><td>0.0</td><td>1.414</td><td>5.0</td><td>5000</td><td>4724</td><td>276</td><td>0.0552</td><td>47</td></tr><tr><th>7</th><td>0.0</td><td>0.707</td><td>7.0</td><td>5000</td><td>4750</td><td>244</td><td>0.0488</td><td>99</td></tr><tr><th>8</th><td>0.0</td><td>1.0</td><td>7.0</td><td>5000</td><td>4779</td><td>215</td><td>0.043</td><td>100</td></tr><tr><th>9</th><td>0.0</td><td>1.414</td><td>7.0</td><td>5000</td><td>4733</td><td>259</td><td>0.0518</td><td>102</td></tr><tr><th>10</th><td>0.0</td><td>0.707</td><td>10.0</td><td>5000</td><td>4755</td><td>181</td><td>0.0362</td><td>207</td></tr><tr><th>11</th><td>0.0</td><td>1.0</td><td>10.0</td><td>5000</td><td>4776</td><td>168</td><td>0.0336</td><td>205</td></tr><tr><th>12</th><td>0.0</td><td>1.414</td><td>10.0</td><td>5000</td><td>4746</td><td>190</td><td>0.038</td><td>208</td></tr></tbody></table>"
      ],
      "text/latex": [
       "\\begin{tabular}{r|cccccccc}\n",
       "\t& delta & r & thresh & num\\_sim & num\\_null & num\\_alt & err\\_rate & avg\\_sample\\_size\\\\\n",
       "\t\\hline\n",
       "\t& Float64 & Float64 & Float64 & Int64 & Int64 & Int64 & Float64 & Int64\\\\\n",
       "\t\\hline\n",
       "\t1 & 0.0 & 0.707 & 3.0 & 5000 & 4666 & 334 & 0.0668 & 24 \\\\\n",
       "\t2 & 0.0 & 1.0 & 3.0 & 5000 & 4691 & 309 & 0.0618 & 24 \\\\\n",
       "\t3 & 0.0 & 1.414 & 3.0 & 5000 & 4714 & 286 & 0.0572 & 24 \\\\\n",
       "\t4 & 0.0 & 0.707 & 5.0 & 5000 & 4727 & 273 & 0.0546 & 48 \\\\\n",
       "\t5 & 0.0 & 1.0 & 5.0 & 5000 & 4743 & 256 & 0.0512 & 48 \\\\\n",
       "\t6 & 0.0 & 1.414 & 5.0 & 5000 & 4724 & 276 & 0.0552 & 47 \\\\\n",
       "\t7 & 0.0 & 0.707 & 7.0 & 5000 & 4750 & 244 & 0.0488 & 99 \\\\\n",
       "\t8 & 0.0 & 1.0 & 7.0 & 5000 & 4779 & 215 & 0.043 & 100 \\\\\n",
       "\t9 & 0.0 & 1.414 & 7.0 & 5000 & 4733 & 259 & 0.0518 & 102 \\\\\n",
       "\t10 & 0.0 & 0.707 & 10.0 & 5000 & 4755 & 181 & 0.0362 & 207 \\\\\n",
       "\t11 & 0.0 & 1.0 & 10.0 & 5000 & 4776 & 168 & 0.0336 & 205 \\\\\n",
       "\t12 & 0.0 & 1.414 & 10.0 & 5000 & 4746 & 190 & 0.038 & 208 \\\\\n",
       "\\end{tabular}\n"
      ],
      "text/plain": [
       "\u001b[1m12×8 DataFrame\u001b[0m\n",
       "\u001b[1m Row \u001b[0m│\u001b[1m delta   \u001b[0m\u001b[1m r       \u001b[0m\u001b[1m thresh  \u001b[0m\u001b[1m num_sim \u001b[0m\u001b[1m num_null \u001b[0m\u001b[1m num_alt \u001b[0m\u001b[1m err_rate \u001b[0m\u001b[1m avg_sample_size \u001b[0m\n",
       "\u001b[1m     \u001b[0m│\u001b[90m Float64 \u001b[0m\u001b[90m Float64 \u001b[0m\u001b[90m Float64 \u001b[0m\u001b[90m Int64   \u001b[0m\u001b[90m Int64    \u001b[0m\u001b[90m Int64   \u001b[0m\u001b[90m Float64  \u001b[0m\u001b[90m Int64           \u001b[0m\n",
       "─────┼──────────────────────────────────────────────────────────────────────────────────\n",
       "   1 │     0.0    0.707      3.0     5000      4666      334    0.0668               24\n",
       "   2 │     0.0    1.0        3.0     5000      4691      309    0.0618               24\n",
       "   3 │     0.0    1.414      3.0     5000      4714      286    0.0572               24\n",
       "   4 │     0.0    0.707      5.0     5000      4727      273    0.0546               48\n",
       "   5 │     0.0    1.0        5.0     5000      4743      256    0.0512               48\n",
       "   6 │     0.0    1.414      5.0     5000      4724      276    0.0552               47\n",
       "   7 │     0.0    0.707      7.0     5000      4750      244    0.0488               99\n",
       "   8 │     0.0    1.0        7.0     5000      4779      215    0.043               100\n",
       "   9 │     0.0    1.414      7.0     5000      4733      259    0.0518              102\n",
       "  10 │     0.0    0.707     10.0     5000      4755      181    0.0362              207\n",
       "  11 │     0.0    1.0       10.0     5000      4776      168    0.0336              205\n",
       "  12 │     0.0    1.414     10.0     5000      4746      190    0.038               208"
      ]
     },
     "execution_count": 5,
     "metadata": {},
     "output_type": "execute_result"
    }
   ],
   "source": [
    "sim_result1"
   ]
  },
  {
   "cell_type": "markdown",
   "metadata": {},
   "source": [
    "## Case when alternative $\\delta > 0$"
   ]
  },
  {
   "cell_type": "markdown",
   "metadata": {},
   "source": [
    "We create a grid of combinations of all parameters."
   ]
  },
  {
   "cell_type": "code",
   "execution_count": 6,
   "metadata": {},
   "outputs": [
    {
     "name": "stdout",
     "output_type": "stream",
     "text": [
      "length(paramsgrid) = 60\n",
      "paramsgrid[1:5] = NamedTuple{(:delta, :r, :thresh),Tuple{Float64,Float64,Int64}}[(delta = 0.1, r = 0.707, thresh = 3), (delta = 0.3, r = 0.707, thresh = 3), (delta = 0.5, r = 0.707, thresh = 3), (delta = 0.7, r = 0.707, thresh = 3), (delta = 0.9, r = 0.707, thresh = 3)]\n"
     ]
    }
   ],
   "source": [
    "deltas = collect(range(0.1, 1.0, step=0.2));\n",
    "rs = [0.707, 1.0, 1.414];\n",
    "threshs = [3, 5, 7, 10];\n",
    "totalnum = length(deltas)*length(rs)*length(threshs);\n",
    "\n",
    "paramsgrid = reshape(collect(Base.Iterators.product(deltas, rs, threshs)), (totalnum, 1));\n",
    "paramsgrid = [(delta=delta, r=r, thresh=thresh) for (delta, r, thresh) in paramsgrid]\n",
    "@show length(paramsgrid);\n",
    "@show paramsgrid[1:5];"
   ]
  },
  {
   "cell_type": "markdown",
   "metadata": {},
   "source": [
    "The simulation is similar to the $\\delta=0$ case. When alternative $\\delta > 0$, the error rate relates to the false negative evidence."
   ]
  },
  {
   "cell_type": "code",
   "execution_count": 7,
   "metadata": {},
   "outputs": [
    {
     "name": "stderr",
     "output_type": "stream",
     "text": [
      "\u001b[32mProgress: 100%|█████████████████████████████████████████| Time: 0:02:35\u001b[39m\n"
     ]
    }
   ],
   "source": [
    "n =  1000\n",
    "ns = 5000\n",
    "minsample = 20\n",
    "\n",
    "sim_result2 = DataFrame(\n",
    "    delta=Float64[], \n",
    "    r=Float64[], \n",
    "    thresh=Float64[], \n",
    "    num_sim=Int64[], \n",
    "    num_null=Int64[], \n",
    "    num_alt=Int64[],\n",
    "    err_rate=Float64[], \n",
    "    avg_sample_size=Int64[])\n",
    "\n",
    "@showprogress for params in paramsgrid\n",
    "    delta=params.delta\n",
    "    r = params.r\n",
    "    thresh = params.thresh\n",
    "    winners = []\n",
    "    samplesizes = []\n",
    "    for _ in 1:ns\n",
    "        experiment = simulate(delta, n, r, thresh=thresh, minsample=minsample)\n",
    "        push!(winners, experiment.winner)\n",
    "        push!(samplesizes, experiment.stats.n)\n",
    "    end\n",
    "    \n",
    "    num_null = sum(winners .== \"null\")\n",
    "    num_alt = sum(winners .== \"alternative\")\n",
    "    err_rate = 1-num_alt/ns\n",
    "    avg_sample_size = mean(samplesizes)\n",
    "    push!(sim_result2, (delta, r, thresh, ns, num_null, num_alt, \n",
    "            err_rate, convert(Int64, round(avg_sample_size))))\n",
    "end"
   ]
  },
  {
   "cell_type": "markdown",
   "metadata": {},
   "source": [
    "Simulation result when $\\delta=0.5$"
   ]
  },
  {
   "cell_type": "code",
   "execution_count": 8,
   "metadata": {},
   "outputs": [
    {
     "data": {
      "text/html": [
       "<table class=\"data-frame\"><thead><tr><th></th><th>delta</th><th>r</th><th>thresh</th><th>num_sim</th><th>num_null</th><th>num_alt</th><th>err_rate</th><th>avg_sample_size</th></tr><tr><th></th><th>Float64</th><th>Float64</th><th>Float64</th><th>Int64</th><th>Int64</th><th>Int64</th><th>Float64</th><th>Int64</th></tr></thead><tbody><p>12 rows × 8 columns</p><tr><th>1</th><td>0.5</td><td>0.707</td><td>3.0</td><td>5000</td><td>785</td><td>4215</td><td>0.157</td><td>26</td></tr><tr><th>2</th><td>0.5</td><td>0.707</td><td>5.0</td><td>5000</td><td>86</td><td>4914</td><td>0.0172</td><td>33</td></tr><tr><th>3</th><td>0.5</td><td>0.707</td><td>7.0</td><td>5000</td><td>1</td><td>4999</td><td>0.0002</td><td>37</td></tr><tr><th>4</th><td>0.5</td><td>0.707</td><td>10.0</td><td>5000</td><td>0</td><td>5000</td><td>0.0</td><td>40</td></tr><tr><th>5</th><td>0.5</td><td>1.0</td><td>3.0</td><td>5000</td><td>731</td><td>4269</td><td>0.1462</td><td>26</td></tr><tr><th>6</th><td>0.5</td><td>1.0</td><td>5.0</td><td>5000</td><td>81</td><td>4919</td><td>0.0162</td><td>33</td></tr><tr><th>7</th><td>0.5</td><td>1.0</td><td>7.0</td><td>5000</td><td>1</td><td>4999</td><td>0.0002</td><td>36</td></tr><tr><th>8</th><td>0.5</td><td>1.0</td><td>10.0</td><td>5000</td><td>0</td><td>5000</td><td>0.0</td><td>40</td></tr><tr><th>9</th><td>0.5</td><td>1.414</td><td>3.0</td><td>5000</td><td>744</td><td>4256</td><td>0.1488</td><td>25</td></tr><tr><th>10</th><td>0.5</td><td>1.414</td><td>5.0</td><td>5000</td><td>86</td><td>4914</td><td>0.0172</td><td>34</td></tr><tr><th>11</th><td>0.5</td><td>1.414</td><td>7.0</td><td>5000</td><td>2</td><td>4998</td><td>0.0004</td><td>37</td></tr><tr><th>12</th><td>0.5</td><td>1.414</td><td>10.0</td><td>5000</td><td>0</td><td>5000</td><td>0.0</td><td>39</td></tr></tbody></table>"
      ],
      "text/latex": [
       "\\begin{tabular}{r|cccccccc}\n",
       "\t& delta & r & thresh & num\\_sim & num\\_null & num\\_alt & err\\_rate & avg\\_sample\\_size\\\\\n",
       "\t\\hline\n",
       "\t& Float64 & Float64 & Float64 & Int64 & Int64 & Int64 & Float64 & Int64\\\\\n",
       "\t\\hline\n",
       "\t1 & 0.5 & 0.707 & 3.0 & 5000 & 785 & 4215 & 0.157 & 26 \\\\\n",
       "\t2 & 0.5 & 0.707 & 5.0 & 5000 & 86 & 4914 & 0.0172 & 33 \\\\\n",
       "\t3 & 0.5 & 0.707 & 7.0 & 5000 & 1 & 4999 & 0.0002 & 37 \\\\\n",
       "\t4 & 0.5 & 0.707 & 10.0 & 5000 & 0 & 5000 & 0.0 & 40 \\\\\n",
       "\t5 & 0.5 & 1.0 & 3.0 & 5000 & 731 & 4269 & 0.1462 & 26 \\\\\n",
       "\t6 & 0.5 & 1.0 & 5.0 & 5000 & 81 & 4919 & 0.0162 & 33 \\\\\n",
       "\t7 & 0.5 & 1.0 & 7.0 & 5000 & 1 & 4999 & 0.0002 & 36 \\\\\n",
       "\t8 & 0.5 & 1.0 & 10.0 & 5000 & 0 & 5000 & 0.0 & 40 \\\\\n",
       "\t9 & 0.5 & 1.414 & 3.0 & 5000 & 744 & 4256 & 0.1488 & 25 \\\\\n",
       "\t10 & 0.5 & 1.414 & 5.0 & 5000 & 86 & 4914 & 0.0172 & 34 \\\\\n",
       "\t11 & 0.5 & 1.414 & 7.0 & 5000 & 2 & 4998 & 0.0004 & 37 \\\\\n",
       "\t12 & 0.5 & 1.414 & 10.0 & 5000 & 0 & 5000 & 0.0 & 39 \\\\\n",
       "\\end{tabular}\n"
      ],
      "text/plain": [
       "\u001b[1m12×8 DataFrame\u001b[0m\n",
       "\u001b[1m Row \u001b[0m│\u001b[1m delta   \u001b[0m\u001b[1m r       \u001b[0m\u001b[1m thresh  \u001b[0m\u001b[1m num_sim \u001b[0m\u001b[1m num_null \u001b[0m\u001b[1m num_alt \u001b[0m\u001b[1m err_rate \u001b[0m\u001b[1m avg_sample_size \u001b[0m\n",
       "\u001b[1m     \u001b[0m│\u001b[90m Float64 \u001b[0m\u001b[90m Float64 \u001b[0m\u001b[90m Float64 \u001b[0m\u001b[90m Int64   \u001b[0m\u001b[90m Int64    \u001b[0m\u001b[90m Int64   \u001b[0m\u001b[90m Float64  \u001b[0m\u001b[90m Int64           \u001b[0m\n",
       "─────┼──────────────────────────────────────────────────────────────────────────────────\n",
       "   1 │     0.5    0.707      3.0     5000       785     4215    0.157                26\n",
       "   2 │     0.5    0.707      5.0     5000        86     4914    0.0172               33\n",
       "   3 │     0.5    0.707      7.0     5000         1     4999    0.0002               37\n",
       "   4 │     0.5    0.707     10.0     5000         0     5000    0.0                  40\n",
       "   5 │     0.5    1.0        3.0     5000       731     4269    0.1462               26\n",
       "   6 │     0.5    1.0        5.0     5000        81     4919    0.0162               33\n",
       "   7 │     0.5    1.0        7.0     5000         1     4999    0.0002               36\n",
       "   8 │     0.5    1.0       10.0     5000         0     5000    0.0                  40\n",
       "   9 │     0.5    1.414      3.0     5000       744     4256    0.1488               25\n",
       "  10 │     0.5    1.414      5.0     5000        86     4914    0.0172               34\n",
       "  11 │     0.5    1.414      7.0     5000         2     4998    0.0004               37\n",
       "  12 │     0.5    1.414     10.0     5000         0     5000    0.0                  39"
      ]
     },
     "execution_count": 8,
     "metadata": {},
     "output_type": "execute_result"
    }
   ],
   "source": [
    "sim_result2 |>\n",
    "    df -> filter(x->x.delta==0.5, df)|>\n",
    "    df -> sort(df, [:delta, :r])"
   ]
  },
  {
   "cell_type": "markdown",
   "metadata": {},
   "source": [
    "## Evaluate the simulation result with Type I & II Error and FDR"
   ]
  },
  {
   "cell_type": "markdown",
   "metadata": {},
   "source": [
    "As pointed out by [2], we can evaluate the simulation result from the perspective of false discovery rate. Here we assume there is a 50-50 chance that the data is from either the null model or alternative model. \n",
    "\n",
    "We can merge the two simulations results by the prior standard deviation $r$ and threshold of bayes factor. In the merged dataframe, each row represents a simulation with the 5000 samples from the null model and 5000 samples from the alternative model with the corresponding parameters ($r$, $thresh$, $\\delta_1$)."
   ]
  },
  {
   "cell_type": "code",
   "execution_count": 9,
   "metadata": {},
   "outputs": [],
   "source": [
    "sim_result = leftjoin(sim_result1, sim_result2, \n",
    "    on=[:r, :thresh, :num_sim],\n",
    "    renamecols= \"_0\" => \"_1\"\n",
    ");\n",
    "\n",
    "sim_result.num_dis = sim_result.num_alt_0 + sim_result.num_alt_1;\n",
    "sim_result.num_false_dis = sim_result.num_alt_0;\n",
    "sim_result.fdr = sim_result.num_false_dis ./ sim_result.num_dis;\n",
    "\n",
    "sim_result.type1_error = sim_result.num_alt_0 ./ sim_result.num_sim;\n",
    "#sim_result.type2_error = 1 .- sim_result.num_alt_1 ./ sim_result.num_sim;\n",
    "sim_result.power = sim_result.num_alt_1 ./ sim_result.num_sim;\n",
    "\n",
    "sim_result = sim_result |>\n",
    "    df -> select(df, [:delta_1, :r, :thresh, :num_sim, :num_null_0, :num_alt_0, \n",
    "        :num_null_1, :num_alt_1, :type1_error, :power, :fdr]);"
   ]
  },
  {
   "cell_type": "code",
   "execution_count": 10,
   "metadata": {},
   "outputs": [],
   "source": [
    "sim_result.num_dis = sim_result.num_alt_0 + sim_result.num_alt_1;\n",
    "sim_result.num_false_dis = sim_result.num_alt_0;\n",
    "sim_result.fdr = sim_result.num_false_dis ./ sim_result.num_dis;\n",
    "\n",
    "sim_result.type1_error = sim_result.num_alt_0 ./ sim_result.num_sim;\n",
    "sim_result.type2_error = 1 .- sim_result.num_alt_1 ./ sim_result.num_sim;"
   ]
  },
  {
   "cell_type": "code",
   "execution_count": 11,
   "metadata": {},
   "outputs": [],
   "source": [
    "sim_result = sim_result |>\n",
    "    df -> select(df, [:delta_1, :r, :thresh, :num_sim, :num_null_0, :num_alt_0, \n",
    "        :num_null_1, :num_alt_1, :type1_error, :power, :fdr]);"
   ]
  },
  {
   "cell_type": "markdown",
   "metadata": {},
   "source": [
    "Examples from merged dataframe:"
   ]
  },
  {
   "cell_type": "code",
   "execution_count": 12,
   "metadata": {
    "scrolled": false
   },
   "outputs": [
    {
     "data": {
      "text/html": [
       "<table class=\"data-frame\"><thead><tr><th></th><th>delta_1</th><th>r</th><th>thresh</th><th>num_sim</th><th>num_null_0</th><th>num_alt_0</th><th>num_null_1</th><th>num_alt_1</th><th>type1_error</th><th>power</th><th>fdr</th></tr><tr><th></th><th>Float64?</th><th>Float64</th><th>Float64</th><th>Int64</th><th>Int64</th><th>Int64</th><th>Int64?</th><th>Int64?</th><th>Float64</th><th>Float64</th><th>Float64</th></tr></thead><tbody><p>12 rows × 11 columns</p><tr><th>1</th><td>0.1</td><td>0.707</td><td>3.0</td><td>5000</td><td>4666</td><td>334</td><td>4451</td><td>549</td><td>0.0668</td><td>0.1098</td><td>0.378256</td></tr><tr><th>2</th><td>0.1</td><td>0.707</td><td>5.0</td><td>5000</td><td>4727</td><td>273</td><td>4197</td><td>799</td><td>0.0546</td><td>0.1598</td><td>0.254664</td></tr><tr><th>3</th><td>0.1</td><td>0.707</td><td>7.0</td><td>5000</td><td>4750</td><td>244</td><td>3595</td><td>1346</td><td>0.0488</td><td>0.2692</td><td>0.153459</td></tr><tr><th>4</th><td>0.1</td><td>0.707</td><td>10.0</td><td>5000</td><td>4755</td><td>181</td><td>2533</td><td>2042</td><td>0.0362</td><td>0.4084</td><td>0.0814215</td></tr><tr><th>5</th><td>0.1</td><td>1.0</td><td>3.0</td><td>5000</td><td>4691</td><td>309</td><td>4453</td><td>547</td><td>0.0618</td><td>0.1094</td><td>0.360981</td></tr><tr><th>6</th><td>0.1</td><td>1.0</td><td>5.0</td><td>5000</td><td>4743</td><td>256</td><td>4192</td><td>807</td><td>0.0512</td><td>0.1614</td><td>0.240828</td></tr><tr><th>7</th><td>0.1</td><td>1.0</td><td>7.0</td><td>5000</td><td>4779</td><td>215</td><td>3649</td><td>1301</td><td>0.043</td><td>0.2602</td><td>0.141821</td></tr><tr><th>8</th><td>0.1</td><td>1.0</td><td>10.0</td><td>5000</td><td>4776</td><td>168</td><td>2569</td><td>2053</td><td>0.0336</td><td>0.4106</td><td>0.0756416</td></tr><tr><th>9</th><td>0.3</td><td>1.0</td><td>3.0</td><td>5000</td><td>4691</td><td>309</td><td>2584</td><td>2416</td><td>0.0618</td><td>0.4832</td><td>0.113394</td></tr><tr><th>10</th><td>0.3</td><td>1.0</td><td>5.0</td><td>5000</td><td>4743</td><td>256</td><td>1136</td><td>3864</td><td>0.0512</td><td>0.7728</td><td>0.0621359</td></tr><tr><th>11</th><td>0.3</td><td>1.0</td><td>7.0</td><td>5000</td><td>4779</td><td>215</td><td>254</td><td>4746</td><td>0.043</td><td>0.9492</td><td>0.043338</td></tr><tr><th>12</th><td>0.3</td><td>1.0</td><td>10.0</td><td>5000</td><td>4776</td><td>168</td><td>8</td><td>4992</td><td>0.0336</td><td>0.9984</td><td>0.0325581</td></tr></tbody></table>"
      ],
      "text/latex": [
       "\\begin{tabular}{r|ccccccccccc}\n",
       "\t& delta\\_1 & r & thresh & num\\_sim & num\\_null\\_0 & num\\_alt\\_0 & num\\_null\\_1 & num\\_alt\\_1 & type1\\_error & power & fdr\\\\\n",
       "\t\\hline\n",
       "\t& Float64? & Float64 & Float64 & Int64 & Int64 & Int64 & Int64? & Int64? & Float64 & Float64 & Float64\\\\\n",
       "\t\\hline\n",
       "\t1 & 0.1 & 0.707 & 3.0 & 5000 & 4666 & 334 & 4451 & 549 & 0.0668 & 0.1098 & 0.378256 \\\\\n",
       "\t2 & 0.1 & 0.707 & 5.0 & 5000 & 4727 & 273 & 4197 & 799 & 0.0546 & 0.1598 & 0.254664 \\\\\n",
       "\t3 & 0.1 & 0.707 & 7.0 & 5000 & 4750 & 244 & 3595 & 1346 & 0.0488 & 0.2692 & 0.153459 \\\\\n",
       "\t4 & 0.1 & 0.707 & 10.0 & 5000 & 4755 & 181 & 2533 & 2042 & 0.0362 & 0.4084 & 0.0814215 \\\\\n",
       "\t5 & 0.1 & 1.0 & 3.0 & 5000 & 4691 & 309 & 4453 & 547 & 0.0618 & 0.1094 & 0.360981 \\\\\n",
       "\t6 & 0.1 & 1.0 & 5.0 & 5000 & 4743 & 256 & 4192 & 807 & 0.0512 & 0.1614 & 0.240828 \\\\\n",
       "\t7 & 0.1 & 1.0 & 7.0 & 5000 & 4779 & 215 & 3649 & 1301 & 0.043 & 0.2602 & 0.141821 \\\\\n",
       "\t8 & 0.1 & 1.0 & 10.0 & 5000 & 4776 & 168 & 2569 & 2053 & 0.0336 & 0.4106 & 0.0756416 \\\\\n",
       "\t9 & 0.3 & 1.0 & 3.0 & 5000 & 4691 & 309 & 2584 & 2416 & 0.0618 & 0.4832 & 0.113394 \\\\\n",
       "\t10 & 0.3 & 1.0 & 5.0 & 5000 & 4743 & 256 & 1136 & 3864 & 0.0512 & 0.7728 & 0.0621359 \\\\\n",
       "\t11 & 0.3 & 1.0 & 7.0 & 5000 & 4779 & 215 & 254 & 4746 & 0.043 & 0.9492 & 0.043338 \\\\\n",
       "\t12 & 0.3 & 1.0 & 10.0 & 5000 & 4776 & 168 & 8 & 4992 & 0.0336 & 0.9984 & 0.0325581 \\\\\n",
       "\\end{tabular}\n"
      ],
      "text/plain": [
       "\u001b[1m12×11 DataFrame\u001b[0m\n",
       "\u001b[1m Row \u001b[0m│\u001b[1m delta_1  \u001b[0m\u001b[1m r       \u001b[0m\u001b[1m thresh  \u001b[0m\u001b[1m num_sim \u001b[0m\u001b[1m num_null_0 \u001b[0m\u001b[1m num_alt_0 \u001b[0m\u001b[1m num_null_1 \u001b[0m\u001b[1m num_alt_1 \u001b[0m\u001b[1m type1_error \u001b[0m\u001b[1m power   \u001b[0m\u001b[1m fdr       \u001b[0m\n",
       "\u001b[1m     \u001b[0m│\u001b[90m Float64? \u001b[0m\u001b[90m Float64 \u001b[0m\u001b[90m Float64 \u001b[0m\u001b[90m Int64   \u001b[0m\u001b[90m Int64      \u001b[0m\u001b[90m Int64     \u001b[0m\u001b[90m Int64?     \u001b[0m\u001b[90m Int64?    \u001b[0m\u001b[90m Float64     \u001b[0m\u001b[90m Float64 \u001b[0m\u001b[90m Float64   \u001b[0m\n",
       "─────┼────────────────────────────────────────────────────────────────────────────────────────────────────────────────────\n",
       "   1 │      0.1    0.707      3.0     5000        4666        334        4451        549       0.0668   0.1098  0.378256\n",
       "   2 │      0.1    0.707      5.0     5000        4727        273        4197        799       0.0546   0.1598  0.254664\n",
       "   3 │      0.1    0.707      7.0     5000        4750        244        3595       1346       0.0488   0.2692  0.153459\n",
       "   4 │      0.1    0.707     10.0     5000        4755        181        2533       2042       0.0362   0.4084  0.0814215\n",
       "   5 │      0.1    1.0        3.0     5000        4691        309        4453        547       0.0618   0.1094  0.360981\n",
       "   6 │      0.1    1.0        5.0     5000        4743        256        4192        807       0.0512   0.1614  0.240828\n",
       "   7 │      0.1    1.0        7.0     5000        4779        215        3649       1301       0.043    0.2602  0.141821\n",
       "   8 │      0.1    1.0       10.0     5000        4776        168        2569       2053       0.0336   0.4106  0.0756416\n",
       "   9 │      0.3    1.0        3.0     5000        4691        309        2584       2416       0.0618   0.4832  0.113394\n",
       "  10 │      0.3    1.0        5.0     5000        4743        256        1136       3864       0.0512   0.7728  0.0621359\n",
       "  11 │      0.3    1.0        7.0     5000        4779        215         254       4746       0.043    0.9492  0.043338\n",
       "  12 │      0.3    1.0       10.0     5000        4776        168           8       4992       0.0336   0.9984  0.0325581"
      ]
     },
     "execution_count": 12,
     "metadata": {},
     "output_type": "execute_result"
    }
   ],
   "source": [
    "sim_result |>\n",
    "    df -> filter(\n",
    "        x -> ((x.delta_1 == 0.1) .& (x.r == 0.707)) .|\n",
    "             ((x.delta_1 == 0.1) .& (x.r == 1.0)) .|\n",
    "             ((x.delta_1 == 0.3) .& (x.r == 1.0))\n",
    "            , df) |>\n",
    "    df -> sort(df, [:delta_1, :r, :thresh])"
   ]
  },
  {
   "cell_type": "markdown",
   "metadata": {},
   "source": [
    "## References"
   ]
  },
  {
   "cell_type": "markdown",
   "metadata": {},
   "source": [
    "1. Schönbrodt, Felix D., Eric-Jan Wagenmakers, Michael Zehetleitner, and Marco Perugini. \"Sequential hypothesis testing with Bayes factors: Efficiently testing mean differences.\" Psychological methods 22, no. 2 (2017): 322.\n",
    "2. Deng, Alex, Jiannan Lu, and Shouyuan Chen. \"Continuous monitoring of A/B tests without pain: Optional stopping in Bayesian testing.\" In 2016 IEEE international conference on data science and advanced analytics (DSAA), pp. 243-252. IEEE, 2016.\n",
    "3. Rouder, Jeffrey N. \"Optional stopping: No problem for Bayesians.\" Psychonomic bulletin & review 21, no. 2 (2014): 301-308."
   ]
  }
 ],
 "metadata": {
  "kernelspec": {
   "display_name": "Julia 1.5.4",
   "language": "julia",
   "name": "julia-1.5"
  },
  "language_info": {
   "file_extension": ".jl",
   "mimetype": "application/julia",
   "name": "julia",
   "version": "1.5.4"
  }
 },
 "nbformat": 4,
 "nbformat_minor": 2
}
