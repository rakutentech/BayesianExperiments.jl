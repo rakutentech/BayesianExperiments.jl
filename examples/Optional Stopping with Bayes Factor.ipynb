{
 "cells": [
  {
   "cell_type": "code",
   "execution_count": 2,
   "metadata": {},
   "outputs": [
    {
     "name": "stderr",
     "output_type": "stream",
     "text": [
      "┌ Info: Precompiling BayesianExperiments [0200d6b2-355c-4cc6-8967-0ef505c43a9c]\n",
      "└ @ Base loading.jl:1278\n"
     ]
    },
    {
     "data": {
      "text/plain": [
       "200"
      ]
     },
     "execution_count": 2,
     "metadata": {},
     "output_type": "execute_result"
    }
   ],
   "source": [
    "# using Random\n",
    "# using BayesianExperiments\n",
    "using ProgressMeter: @showprogress\n",
    "using DataFrames\n",
    "\n",
    "using Random\n",
    "using Revise\n",
    "\n",
    "using BayesianExperiments\n",
    "Revise.track(BayesianExperiments)\n",
    "\n",
    "# number of columns in a dataframe to show \n",
    "ENV[\"COLUMNS\"] = 200"
   ]
  },
  {
   "cell_type": "markdown",
   "metadata": {},
   "source": [
    "We will use the `NormalEffectSize` model in the package. You can check the definition of `NormalEffectSize` model from the docstring by typing `?NormalEffectSize`."
   ]
  },
  {
   "cell_type": "code",
   "execution_count": 4,
   "metadata": {},
   "outputs": [
    {
     "data": {
      "text/plain": [
       "simulate (generic function with 1 method)"
      ]
     },
     "execution_count": 4,
     "metadata": {},
     "output_type": "execute_result"
    }
   ],
   "source": [
    "function simulate(δ, n, σ0; r=0.707, thresh=9, minsample=20)\n",
    "    i = 0\n",
    "    rule = TwoSidedBFThresh(thresh)\n",
    "    model = StudentTEffectSize(r=r)\n",
    "    experiment = ExperimentBF(model=model, rule=rule)\n",
    "    xs = rand(Normal(δ, 1), n)\n",
    "    while (i < n) & (experiment.winner === nothing)\n",
    "        i += 1\n",
    "        if i < minsample\n",
    "            continue\n",
    "        end\n",
    "        stats = NormalStatistics(xs[1:i])\n",
    "        experiment.stats = stats\n",
    "        decide!(experiment)\n",
    "    end\n",
    "    experiment\n",
    "end\n"
   ]
  },
  {
   "cell_type": "markdown",
   "metadata": {},
   "source": [
    "## Case when alternative $\\delta = 0$"
   ]
  },
  {
   "cell_type": "markdown",
   "metadata": {},
   "source": [
    "When alternative $\\delta > 0$, the error rate relates to the false positive rate. "
   ]
  },
  {
   "cell_type": "code",
   "execution_count": 6,
   "metadata": {
    "scrolled": true
   },
   "outputs": [
    {
     "name": "stdout",
     "output_type": "stream",
     "text": [
      "length(paramsgrid) = 12\n"
     ]
    }
   ],
   "source": [
    "#deltas = collect(range(0, 1.5, step=0.2));\n",
    "delta = 0.0\n",
    "rs = [0.707, 1.0, 1.414];\n",
    "threshs = [3, 5, 7, 10];\n",
    "totalnum = length(rs)*length(threshs);\n",
    "\n",
    "paramsgrid = reshape(collect(Base.Iterators.product(rs, threshs)), (totalnum, 1));\n",
    "paramsgrid = [(r=r, thresh=thresh) for (r, thresh) in paramsgrid];\n",
    "@show length(paramsgrid);"
   ]
  },
  {
   "cell_type": "code",
   "execution_count": 7,
   "metadata": {},
   "outputs": [
    {
     "name": "stderr",
     "output_type": "stream",
     "text": [
      "\u001b[32mProgress: 100%|█████████████████████████████████████████| Time: 0:00:58\u001b[39m\n"
     ]
    }
   ],
   "source": [
    "n =  1000\n",
    "ns = 5000\n",
    "minsample = 20\n",
    "\n",
    "sim_result1 = DataFrame(\n",
    "    delta=Float64[], \n",
    "    r=Float64[], \n",
    "    thresh=Float64[], \n",
    "    num_sim=Int64[], \n",
    "    num_null=Int64[], \n",
    "    num_alt=Int64[],\n",
    "    err_rate=Float64[], \n",
    "    avg_sample_size=Int64[])\n",
    "\n",
    "@showprogress for params in paramsgrid\n",
    "    delta = 0\n",
    "    r = params.r\n",
    "    thresh = params.thresh\n",
    "    winners = []\n",
    "    samplesizes = []\n",
    "    for _ in 1:ns\n",
    "        experiment = simulate(delta, n, r, thresh=thresh, minsample=minsample)\n",
    "        push!(winners, experiment.winner)\n",
    "        push!(samplesizes, experiment.stats.n)\n",
    "    end\n",
    "    \n",
    "    num_null = sum(winners .== \"null\")\n",
    "    num_alt = sum(winners .== \"alternative\")\n",
    "    \n",
    "    err_rate = num_alt/ns\n",
    "    avg_sample_size = mean(samplesizes)\n",
    "    push!(sim_result1, (delta, r, thresh, ns, num_null, num_alt, err_rate, convert(Int64, round(avg_sample_size))))\n",
    "end"
   ]
  },
  {
   "cell_type": "code",
   "execution_count": 8,
   "metadata": {},
   "outputs": [
    {
     "data": {
      "text/html": [
       "<table class=\"data-frame\"><thead><tr><th></th><th>delta</th><th>r</th><th>thresh</th><th>num_sim</th><th>num_null</th><th>num_alt</th><th>err_rate</th><th>avg_sample_size</th></tr><tr><th></th><th>Float64</th><th>Float64</th><th>Float64</th><th>Int64</th><th>Int64</th><th>Int64</th><th>Float64</th><th>Int64</th></tr></thead><tbody><p>12 rows × 8 columns</p><tr><th>1</th><td>0.0</td><td>0.707</td><td>3.0</td><td>5000</td><td>4679</td><td>321</td><td>0.0642</td><td>24</td></tr><tr><th>2</th><td>0.0</td><td>1.0</td><td>3.0</td><td>5000</td><td>4692</td><td>308</td><td>0.0616</td><td>23</td></tr><tr><th>3</th><td>0.0</td><td>1.414</td><td>3.0</td><td>5000</td><td>4698</td><td>302</td><td>0.0604</td><td>24</td></tr><tr><th>4</th><td>0.0</td><td>0.707</td><td>5.0</td><td>5000</td><td>4718</td><td>282</td><td>0.0564</td><td>48</td></tr><tr><th>5</th><td>0.0</td><td>1.0</td><td>5.0</td><td>5000</td><td>4707</td><td>293</td><td>0.0586</td><td>49</td></tr><tr><th>6</th><td>0.0</td><td>1.414</td><td>5.0</td><td>5000</td><td>4734</td><td>262</td><td>0.0524</td><td>49</td></tr><tr><th>7</th><td>0.0</td><td>0.707</td><td>7.0</td><td>5000</td><td>4771</td><td>218</td><td>0.0436</td><td>101</td></tr><tr><th>8</th><td>0.0</td><td>1.0</td><td>7.0</td><td>5000</td><td>4765</td><td>228</td><td>0.0456</td><td>99</td></tr><tr><th>9</th><td>0.0</td><td>1.414</td><td>7.0</td><td>5000</td><td>4744</td><td>250</td><td>0.05</td><td>102</td></tr><tr><th>10</th><td>0.0</td><td>0.707</td><td>10.0</td><td>5000</td><td>4767</td><td>165</td><td>0.033</td><td>209</td></tr><tr><th>11</th><td>0.0</td><td>1.0</td><td>10.0</td><td>5000</td><td>4726</td><td>206</td><td>0.0412</td><td>208</td></tr><tr><th>12</th><td>0.0</td><td>1.414</td><td>10.0</td><td>5000</td><td>4728</td><td>205</td><td>0.041</td><td>205</td></tr></tbody></table>"
      ],
      "text/latex": [
       "\\begin{tabular}{r|cccccccc}\n",
       "\t& delta & r & thresh & num\\_sim & num\\_null & num\\_alt & err\\_rate & avg\\_sample\\_size\\\\\n",
       "\t\\hline\n",
       "\t& Float64 & Float64 & Float64 & Int64 & Int64 & Int64 & Float64 & Int64\\\\\n",
       "\t\\hline\n",
       "\t1 & 0.0 & 0.707 & 3.0 & 5000 & 4679 & 321 & 0.0642 & 24 \\\\\n",
       "\t2 & 0.0 & 1.0 & 3.0 & 5000 & 4692 & 308 & 0.0616 & 23 \\\\\n",
       "\t3 & 0.0 & 1.414 & 3.0 & 5000 & 4698 & 302 & 0.0604 & 24 \\\\\n",
       "\t4 & 0.0 & 0.707 & 5.0 & 5000 & 4718 & 282 & 0.0564 & 48 \\\\\n",
       "\t5 & 0.0 & 1.0 & 5.0 & 5000 & 4707 & 293 & 0.0586 & 49 \\\\\n",
       "\t6 & 0.0 & 1.414 & 5.0 & 5000 & 4734 & 262 & 0.0524 & 49 \\\\\n",
       "\t7 & 0.0 & 0.707 & 7.0 & 5000 & 4771 & 218 & 0.0436 & 101 \\\\\n",
       "\t8 & 0.0 & 1.0 & 7.0 & 5000 & 4765 & 228 & 0.0456 & 99 \\\\\n",
       "\t9 & 0.0 & 1.414 & 7.0 & 5000 & 4744 & 250 & 0.05 & 102 \\\\\n",
       "\t10 & 0.0 & 0.707 & 10.0 & 5000 & 4767 & 165 & 0.033 & 209 \\\\\n",
       "\t11 & 0.0 & 1.0 & 10.0 & 5000 & 4726 & 206 & 0.0412 & 208 \\\\\n",
       "\t12 & 0.0 & 1.414 & 10.0 & 5000 & 4728 & 205 & 0.041 & 205 \\\\\n",
       "\\end{tabular}\n"
      ],
      "text/plain": [
       "\u001b[1m12×8 DataFrame\u001b[0m\n",
       "\u001b[1m Row \u001b[0m│\u001b[1m delta   \u001b[0m\u001b[1m r       \u001b[0m\u001b[1m thresh  \u001b[0m\u001b[1m num_sim \u001b[0m\u001b[1m num_null \u001b[0m\u001b[1m num_alt \u001b[0m\u001b[1m err_rate \u001b[0m\u001b[1m avg_sample_size \u001b[0m\n",
       "\u001b[1m     \u001b[0m│\u001b[90m Float64 \u001b[0m\u001b[90m Float64 \u001b[0m\u001b[90m Float64 \u001b[0m\u001b[90m Int64   \u001b[0m\u001b[90m Int64    \u001b[0m\u001b[90m Int64   \u001b[0m\u001b[90m Float64  \u001b[0m\u001b[90m Int64           \u001b[0m\n",
       "─────┼──────────────────────────────────────────────────────────────────────────────────\n",
       "   1 │     0.0    0.707      3.0     5000      4679      321    0.0642               24\n",
       "   2 │     0.0    1.0        3.0     5000      4692      308    0.0616               23\n",
       "   3 │     0.0    1.414      3.0     5000      4698      302    0.0604               24\n",
       "   4 │     0.0    0.707      5.0     5000      4718      282    0.0564               48\n",
       "   5 │     0.0    1.0        5.0     5000      4707      293    0.0586               49\n",
       "   6 │     0.0    1.414      5.0     5000      4734      262    0.0524               49\n",
       "   7 │     0.0    0.707      7.0     5000      4771      218    0.0436              101\n",
       "   8 │     0.0    1.0        7.0     5000      4765      228    0.0456               99\n",
       "   9 │     0.0    1.414      7.0     5000      4744      250    0.05                102\n",
       "  10 │     0.0    0.707     10.0     5000      4767      165    0.033               209\n",
       "  11 │     0.0    1.0       10.0     5000      4726      206    0.0412              208\n",
       "  12 │     0.0    1.414     10.0     5000      4728      205    0.041               205"
      ]
     },
     "execution_count": 8,
     "metadata": {},
     "output_type": "execute_result"
    }
   ],
   "source": [
    "sim_result1"
   ]
  },
  {
   "cell_type": "markdown",
   "metadata": {},
   "source": [
    "## Case when alternative $\\delta > 0$"
   ]
  },
  {
   "cell_type": "markdown",
   "metadata": {},
   "source": [
    "We create a grid of combinations of all parameters."
   ]
  },
  {
   "cell_type": "code",
   "execution_count": 24,
   "metadata": {},
   "outputs": [
    {
     "name": "stdout",
     "output_type": "stream",
     "text": [
      "length(paramsgrid) = 60\n",
      "paramsgrid[1:5] = NamedTuple{(:delta, :r, :thresh),Tuple{Float64,Float64,Int64}}[(delta = 0.1, r = 0.707, thresh = 3), (delta = 0.3, r = 0.707, thresh = 3), (delta = 0.5, r = 0.707, thresh = 3), (delta = 0.7, r = 0.707, thresh = 3), (delta = 0.9, r = 0.707, thresh = 3)]\n"
     ]
    }
   ],
   "source": [
    "deltas = collect(range(0.1, 1.0, step=0.2));\n",
    "rs = [0.707, 1.0, 1.414];\n",
    "threshs = [3, 5, 7, 10];\n",
    "totalnum = length(deltas)*length(rs)*length(threshs);\n",
    "\n",
    "paramsgrid = reshape(collect(Base.Iterators.product(deltas, rs, threshs)), (totalnum, 1));\n",
    "paramsgrid = [(delta=delta, r=r, thresh=thresh) for (delta, r, thresh) in paramsgrid]\n",
    "@show length(paramsgrid);\n",
    "@show paramsgrid[1:5];"
   ]
  },
  {
   "cell_type": "markdown",
   "metadata": {},
   "source": [
    "The simulation is similar to the $\\delta=0$ case. When alternative $\\delta > 0$, the error rate relates to the false negative evidence."
   ]
  },
  {
   "cell_type": "code",
   "execution_count": 10,
   "metadata": {},
   "outputs": [
    {
     "name": "stderr",
     "output_type": "stream",
     "text": [
      "\u001b[32mProgress: 100%|█████████████████████████████████████████| Time: 0:03:01\u001b[39m\n"
     ]
    }
   ],
   "source": [
    "n =  1000\n",
    "ns = 5000\n",
    "minsample = 20\n",
    "\n",
    "sim_result2 = DataFrame(\n",
    "    delta=Float64[], \n",
    "    r=Float64[], \n",
    "    thresh=Float64[], \n",
    "    num_sim=Int64[], \n",
    "    num_null=Int64[], \n",
    "    num_alt=Int64[],\n",
    "    err_rate=Float64[], \n",
    "    avg_sample_size=Int64[])\n",
    "\n",
    "@showprogress for params in paramsgrid\n",
    "    delta=params.delta\n",
    "    r = params.r\n",
    "    thresh = params.thresh\n",
    "    winners = []\n",
    "    samplesizes = []\n",
    "    for _ in 1:ns\n",
    "        experiment = simulate(delta, n, r, thresh=thresh, minsample=minsample)\n",
    "        push!(winners, experiment.winner)\n",
    "        push!(samplesizes, experiment.stats.n)\n",
    "    end\n",
    "    \n",
    "    num_null = sum(winners .== \"null\")\n",
    "    num_alt = sum(winners .== \"alternative\")\n",
    "    err_rate = 1-num_alt/ns\n",
    "    avg_sample_size = mean(samplesizes)\n",
    "    push!(sim_result2, (delta, r, thresh, ns, num_null, num_alt, \n",
    "            err_rate, convert(Int64, round(avg_sample_size))))\n",
    "end"
   ]
  },
  {
   "cell_type": "markdown",
   "metadata": {},
   "source": [
    "Simulation result when $\\delta=0.5$"
   ]
  },
  {
   "cell_type": "code",
   "execution_count": 13,
   "metadata": {},
   "outputs": [
    {
     "data": {
      "text/html": [
       "<table class=\"data-frame\"><thead><tr><th></th><th>delta</th><th>r</th><th>thresh</th><th>num_sim</th><th>num_null</th><th>num_alt</th><th>err_rate</th><th>avg_sample_size</th></tr><tr><th></th><th>Float64</th><th>Float64</th><th>Float64</th><th>Int64</th><th>Int64</th><th>Int64</th><th>Float64</th><th>Int64</th></tr></thead><tbody><p>12 rows × 8 columns</p><tr><th>1</th><td>0.5</td><td>0.707</td><td>3.0</td><td>5000</td><td>723</td><td>4277</td><td>0.1446</td><td>25</td></tr><tr><th>2</th><td>0.5</td><td>0.707</td><td>5.0</td><td>5000</td><td>81</td><td>4919</td><td>0.0162</td><td>33</td></tr><tr><th>3</th><td>0.5</td><td>0.707</td><td>7.0</td><td>5000</td><td>0</td><td>5000</td><td>0.0</td><td>37</td></tr><tr><th>4</th><td>0.5</td><td>0.707</td><td>10.0</td><td>5000</td><td>0</td><td>5000</td><td>0.0</td><td>39</td></tr><tr><th>5</th><td>0.5</td><td>1.0</td><td>3.0</td><td>5000</td><td>723</td><td>4277</td><td>0.1446</td><td>26</td></tr><tr><th>6</th><td>0.5</td><td>1.0</td><td>5.0</td><td>5000</td><td>83</td><td>4917</td><td>0.0166</td><td>33</td></tr><tr><th>7</th><td>0.5</td><td>1.0</td><td>7.0</td><td>5000</td><td>1</td><td>4999</td><td>0.0002</td><td>37</td></tr><tr><th>8</th><td>0.5</td><td>1.0</td><td>10.0</td><td>5000</td><td>0</td><td>5000</td><td>0.0</td><td>40</td></tr><tr><th>9</th><td>0.5</td><td>1.414</td><td>3.0</td><td>5000</td><td>716</td><td>4284</td><td>0.1432</td><td>26</td></tr><tr><th>10</th><td>0.5</td><td>1.414</td><td>5.0</td><td>5000</td><td>100</td><td>4900</td><td>0.02</td><td>33</td></tr><tr><th>11</th><td>0.5</td><td>1.414</td><td>7.0</td><td>5000</td><td>0</td><td>5000</td><td>0.0</td><td>37</td></tr><tr><th>12</th><td>0.5</td><td>1.414</td><td>10.0</td><td>5000</td><td>0</td><td>5000</td><td>0.0</td><td>39</td></tr></tbody></table>"
      ],
      "text/latex": [
       "\\begin{tabular}{r|cccccccc}\n",
       "\t& delta & r & thresh & num\\_sim & num\\_null & num\\_alt & err\\_rate & avg\\_sample\\_size\\\\\n",
       "\t\\hline\n",
       "\t& Float64 & Float64 & Float64 & Int64 & Int64 & Int64 & Float64 & Int64\\\\\n",
       "\t\\hline\n",
       "\t1 & 0.5 & 0.707 & 3.0 & 5000 & 723 & 4277 & 0.1446 & 25 \\\\\n",
       "\t2 & 0.5 & 0.707 & 5.0 & 5000 & 81 & 4919 & 0.0162 & 33 \\\\\n",
       "\t3 & 0.5 & 0.707 & 7.0 & 5000 & 0 & 5000 & 0.0 & 37 \\\\\n",
       "\t4 & 0.5 & 0.707 & 10.0 & 5000 & 0 & 5000 & 0.0 & 39 \\\\\n",
       "\t5 & 0.5 & 1.0 & 3.0 & 5000 & 723 & 4277 & 0.1446 & 26 \\\\\n",
       "\t6 & 0.5 & 1.0 & 5.0 & 5000 & 83 & 4917 & 0.0166 & 33 \\\\\n",
       "\t7 & 0.5 & 1.0 & 7.0 & 5000 & 1 & 4999 & 0.0002 & 37 \\\\\n",
       "\t8 & 0.5 & 1.0 & 10.0 & 5000 & 0 & 5000 & 0.0 & 40 \\\\\n",
       "\t9 & 0.5 & 1.414 & 3.0 & 5000 & 716 & 4284 & 0.1432 & 26 \\\\\n",
       "\t10 & 0.5 & 1.414 & 5.0 & 5000 & 100 & 4900 & 0.02 & 33 \\\\\n",
       "\t11 & 0.5 & 1.414 & 7.0 & 5000 & 0 & 5000 & 0.0 & 37 \\\\\n",
       "\t12 & 0.5 & 1.414 & 10.0 & 5000 & 0 & 5000 & 0.0 & 39 \\\\\n",
       "\\end{tabular}\n"
      ],
      "text/plain": [
       "\u001b[1m12×8 DataFrame\u001b[0m\n",
       "\u001b[1m Row \u001b[0m│\u001b[1m delta   \u001b[0m\u001b[1m r       \u001b[0m\u001b[1m thresh  \u001b[0m\u001b[1m num_sim \u001b[0m\u001b[1m num_null \u001b[0m\u001b[1m num_alt \u001b[0m\u001b[1m err_rate \u001b[0m\u001b[1m avg_sample_size \u001b[0m\n",
       "\u001b[1m     \u001b[0m│\u001b[90m Float64 \u001b[0m\u001b[90m Float64 \u001b[0m\u001b[90m Float64 \u001b[0m\u001b[90m Int64   \u001b[0m\u001b[90m Int64    \u001b[0m\u001b[90m Int64   \u001b[0m\u001b[90m Float64  \u001b[0m\u001b[90m Int64           \u001b[0m\n",
       "─────┼──────────────────────────────────────────────────────────────────────────────────\n",
       "   1 │     0.5    0.707      3.0     5000       723     4277    0.1446               25\n",
       "   2 │     0.5    0.707      5.0     5000        81     4919    0.0162               33\n",
       "   3 │     0.5    0.707      7.0     5000         0     5000    0.0                  37\n",
       "   4 │     0.5    0.707     10.0     5000         0     5000    0.0                  39\n",
       "   5 │     0.5    1.0        3.0     5000       723     4277    0.1446               26\n",
       "   6 │     0.5    1.0        5.0     5000        83     4917    0.0166               33\n",
       "   7 │     0.5    1.0        7.0     5000         1     4999    0.0002               37\n",
       "   8 │     0.5    1.0       10.0     5000         0     5000    0.0                  40\n",
       "   9 │     0.5    1.414      3.0     5000       716     4284    0.1432               26\n",
       "  10 │     0.5    1.414      5.0     5000       100     4900    0.02                 33\n",
       "  11 │     0.5    1.414      7.0     5000         0     5000    0.0                  37\n",
       "  12 │     0.5    1.414     10.0     5000         0     5000    0.0                  39"
      ]
     },
     "execution_count": 13,
     "metadata": {},
     "output_type": "execute_result"
    }
   ],
   "source": [
    "sim_result2 |>\n",
    "    df -> filter(x->x.delta==0.5, df)|>\n",
    "    df -> sort(df, [:delta, :r])"
   ]
  },
  {
   "cell_type": "markdown",
   "metadata": {},
   "source": [
    "## Evaluate the simulation result with Type I, Type I Error and FDR"
   ]
  },
  {
   "cell_type": "markdown",
   "metadata": {},
   "source": [
    "As pointed out by [2], we can evaluate the simulation result from the perspective of false discovery rate. Here we assume there is a 50-50 chance that the data is from either the null model or alternative model. \n",
    "\n",
    "We can merge the two simulations results by the prior standard deviation $r$ and threshold of bayes factor. In the merged dataframe, each row represents a simulation with the 5000 samples from the null model and 5000 samples from the alternative model with the corresponding parameters ($r$, $thresh$, $\\delta_1$)."
   ]
  },
  {
   "cell_type": "code",
   "execution_count": 38,
   "metadata": {},
   "outputs": [],
   "source": [
    "sim_result = leftjoin(sim_result1, sim_result2, \n",
    "    on=[:r, :thresh, :num_sim],\n",
    "    renamecols= \"_0\" => \"_1\"\n",
    ");\n",
    "\n",
    "sim_result.num_dis = sim_result.num_alt_0 + sim_result.num_alt_1;\n",
    "sim_result.num_false_dis = sim_result.num_alt_0;\n",
    "sim_result.fdr = sim_result.num_false_dis ./ sim_result.num_dis;\n",
    "\n",
    "sim_result.type1_error = sim_result.num_alt_0 ./ sim_result.num_sim;\n",
    "#sim_result.type2_error = 1 .- sim_result.num_alt_1 ./ sim_result.num_sim;\n",
    "sim_result.power = sim_result.num_alt_1 ./ sim_result.num_sim;\n",
    "\n",
    "sim_result = sim_result |>\n",
    "    df -> select(df, [:delta_1, :r, :thresh, :num_sim, :num_null_0, :num_alt_0, \n",
    "        :num_null_1, :num_alt_1, :type1_error, :power, :fdr]);"
   ]
  },
  {
   "cell_type": "code",
   "execution_count": 39,
   "metadata": {},
   "outputs": [],
   "source": [
    "sim_result.num_dis = sim_result.num_alt_0 + sim_result.num_alt_1;\n",
    "sim_result.num_false_dis = sim_result.num_alt_0;\n",
    "sim_result.fdr = sim_result.num_false_dis ./ sim_result.num_dis;\n",
    "\n",
    "sim_result.type1_error = sim_result.num_alt_0 ./ sim_result.num_sim;\n",
    "sim_result.type2_error = 1 .- sim_result.num_alt_1 ./ sim_result.num_sim;"
   ]
  },
  {
   "cell_type": "code",
   "execution_count": 40,
   "metadata": {},
   "outputs": [],
   "source": [
    "sim_result = sim_result |>\n",
    "    df -> select(df, [:delta_1, :r, :thresh, :num_sim, :num_null_0, :num_alt_0, \n",
    "        :num_null_1, :num_alt_1, :type1_error, :power, :fdr]);"
   ]
  },
  {
   "cell_type": "markdown",
   "metadata": {},
   "source": [
    "Examples from merged dataframe:"
   ]
  },
  {
   "cell_type": "code",
   "execution_count": 41,
   "metadata": {
    "scrolled": false
   },
   "outputs": [
    {
     "data": {
      "text/html": [
       "<table class=\"data-frame\"><thead><tr><th></th><th>delta_1</th><th>r</th><th>thresh</th><th>num_sim</th><th>num_null_0</th><th>num_alt_0</th><th>num_null_1</th><th>num_alt_1</th><th>type1_error</th><th>power</th><th>fdr</th></tr><tr><th></th><th>Float64?</th><th>Float64</th><th>Float64</th><th>Int64</th><th>Int64</th><th>Int64</th><th>Int64?</th><th>Int64?</th><th>Float64</th><th>Float64</th><th>Float64</th></tr></thead><tbody><p>12 rows × 11 columns</p><tr><th>1</th><td>0.1</td><td>0.707</td><td>3.0</td><td>5000</td><td>4679</td><td>321</td><td>4470</td><td>530</td><td>0.0642</td><td>0.106</td><td>0.377203</td></tr><tr><th>2</th><td>0.1</td><td>0.707</td><td>5.0</td><td>5000</td><td>4718</td><td>282</td><td>4187</td><td>813</td><td>0.0564</td><td>0.1626</td><td>0.257534</td></tr><tr><th>3</th><td>0.1</td><td>0.707</td><td>7.0</td><td>5000</td><td>4771</td><td>218</td><td>3559</td><td>1441</td><td>0.0436</td><td>0.2882</td><td>0.131404</td></tr><tr><th>4</th><td>0.1</td><td>0.707</td><td>10.0</td><td>5000</td><td>4767</td><td>165</td><td>2533</td><td>2467</td><td>0.033</td><td>0.4934</td><td>0.06269</td></tr><tr><th>5</th><td>0.1</td><td>1.0</td><td>3.0</td><td>5000</td><td>4692</td><td>308</td><td>4454</td><td>546</td><td>0.0616</td><td>0.1092</td><td>0.360656</td></tr><tr><th>6</th><td>0.1</td><td>1.0</td><td>5.0</td><td>5000</td><td>4707</td><td>293</td><td>4169</td><td>831</td><td>0.0586</td><td>0.1662</td><td>0.260676</td></tr><tr><th>7</th><td>0.1</td><td>1.0</td><td>7.0</td><td>5000</td><td>4765</td><td>228</td><td>3617</td><td>1383</td><td>0.0456</td><td>0.2766</td><td>0.141527</td></tr><tr><th>8</th><td>0.1</td><td>1.0</td><td>10.0</td><td>5000</td><td>4726</td><td>206</td><td>2506</td><td>2494</td><td>0.0412</td><td>0.4988</td><td>0.0762963</td></tr><tr><th>9</th><td>0.3</td><td>1.0</td><td>3.0</td><td>5000</td><td>4692</td><td>308</td><td>2547</td><td>2453</td><td>0.0616</td><td>0.4906</td><td>0.111554</td></tr><tr><th>10</th><td>0.3</td><td>1.0</td><td>5.0</td><td>5000</td><td>4707</td><td>293</td><td>1125</td><td>3875</td><td>0.0586</td><td>0.775</td><td>0.0702975</td></tr><tr><th>11</th><td>0.3</td><td>1.0</td><td>7.0</td><td>5000</td><td>4765</td><td>228</td><td>242</td><td>4758</td><td>0.0456</td><td>0.9516</td><td>0.045728</td></tr><tr><th>12</th><td>0.3</td><td>1.0</td><td>10.0</td><td>5000</td><td>4726</td><td>206</td><td>12</td><td>4988</td><td>0.0412</td><td>0.9976</td><td>0.0396611</td></tr></tbody></table>"
      ],
      "text/latex": [
       "\\begin{tabular}{r|ccccccccccc}\n",
       "\t& delta\\_1 & r & thresh & num\\_sim & num\\_null\\_0 & num\\_alt\\_0 & num\\_null\\_1 & num\\_alt\\_1 & type1\\_error & power & fdr\\\\\n",
       "\t\\hline\n",
       "\t& Float64? & Float64 & Float64 & Int64 & Int64 & Int64 & Int64? & Int64? & Float64 & Float64 & Float64\\\\\n",
       "\t\\hline\n",
       "\t1 & 0.1 & 0.707 & 3.0 & 5000 & 4679 & 321 & 4470 & 530 & 0.0642 & 0.106 & 0.377203 \\\\\n",
       "\t2 & 0.1 & 0.707 & 5.0 & 5000 & 4718 & 282 & 4187 & 813 & 0.0564 & 0.1626 & 0.257534 \\\\\n",
       "\t3 & 0.1 & 0.707 & 7.0 & 5000 & 4771 & 218 & 3559 & 1441 & 0.0436 & 0.2882 & 0.131404 \\\\\n",
       "\t4 & 0.1 & 0.707 & 10.0 & 5000 & 4767 & 165 & 2533 & 2467 & 0.033 & 0.4934 & 0.06269 \\\\\n",
       "\t5 & 0.1 & 1.0 & 3.0 & 5000 & 4692 & 308 & 4454 & 546 & 0.0616 & 0.1092 & 0.360656 \\\\\n",
       "\t6 & 0.1 & 1.0 & 5.0 & 5000 & 4707 & 293 & 4169 & 831 & 0.0586 & 0.1662 & 0.260676 \\\\\n",
       "\t7 & 0.1 & 1.0 & 7.0 & 5000 & 4765 & 228 & 3617 & 1383 & 0.0456 & 0.2766 & 0.141527 \\\\\n",
       "\t8 & 0.1 & 1.0 & 10.0 & 5000 & 4726 & 206 & 2506 & 2494 & 0.0412 & 0.4988 & 0.0762963 \\\\\n",
       "\t9 & 0.3 & 1.0 & 3.0 & 5000 & 4692 & 308 & 2547 & 2453 & 0.0616 & 0.4906 & 0.111554 \\\\\n",
       "\t10 & 0.3 & 1.0 & 5.0 & 5000 & 4707 & 293 & 1125 & 3875 & 0.0586 & 0.775 & 0.0702975 \\\\\n",
       "\t11 & 0.3 & 1.0 & 7.0 & 5000 & 4765 & 228 & 242 & 4758 & 0.0456 & 0.9516 & 0.045728 \\\\\n",
       "\t12 & 0.3 & 1.0 & 10.0 & 5000 & 4726 & 206 & 12 & 4988 & 0.0412 & 0.9976 & 0.0396611 \\\\\n",
       "\\end{tabular}\n"
      ],
      "text/plain": [
       "\u001b[1m12×11 DataFrame\u001b[0m\n",
       "\u001b[1m Row \u001b[0m│\u001b[1m delta_1  \u001b[0m\u001b[1m r       \u001b[0m\u001b[1m thresh  \u001b[0m\u001b[1m num_sim \u001b[0m\u001b[1m num_null_0 \u001b[0m\u001b[1m num_alt_0 \u001b[0m\u001b[1m num_null_1 \u001b[0m\u001b[1m num_alt_1 \u001b[0m\u001b[1m type1_error \u001b[0m\u001b[1m power   \u001b[0m\u001b[1m fdr       \u001b[0m\n",
       "\u001b[1m     \u001b[0m│\u001b[90m Float64? \u001b[0m\u001b[90m Float64 \u001b[0m\u001b[90m Float64 \u001b[0m\u001b[90m Int64   \u001b[0m\u001b[90m Int64      \u001b[0m\u001b[90m Int64     \u001b[0m\u001b[90m Int64?     \u001b[0m\u001b[90m Int64?    \u001b[0m\u001b[90m Float64     \u001b[0m\u001b[90m Float64 \u001b[0m\u001b[90m Float64   \u001b[0m\n",
       "─────┼────────────────────────────────────────────────────────────────────────────────────────────────────────────────────\n",
       "   1 │      0.1    0.707      3.0     5000        4679        321        4470        530       0.0642   0.106   0.377203\n",
       "   2 │      0.1    0.707      5.0     5000        4718        282        4187        813       0.0564   0.1626  0.257534\n",
       "   3 │      0.1    0.707      7.0     5000        4771        218        3559       1441       0.0436   0.2882  0.131404\n",
       "   4 │      0.1    0.707     10.0     5000        4767        165        2533       2467       0.033    0.4934  0.06269\n",
       "   5 │      0.1    1.0        3.0     5000        4692        308        4454        546       0.0616   0.1092  0.360656\n",
       "   6 │      0.1    1.0        5.0     5000        4707        293        4169        831       0.0586   0.1662  0.260676\n",
       "   7 │      0.1    1.0        7.0     5000        4765        228        3617       1383       0.0456   0.2766  0.141527\n",
       "   8 │      0.1    1.0       10.0     5000        4726        206        2506       2494       0.0412   0.4988  0.0762963\n",
       "   9 │      0.3    1.0        3.0     5000        4692        308        2547       2453       0.0616   0.4906  0.111554\n",
       "  10 │      0.3    1.0        5.0     5000        4707        293        1125       3875       0.0586   0.775   0.0702975\n",
       "  11 │      0.3    1.0        7.0     5000        4765        228         242       4758       0.0456   0.9516  0.045728\n",
       "  12 │      0.3    1.0       10.0     5000        4726        206          12       4988       0.0412   0.9976  0.0396611"
      ]
     },
     "execution_count": 41,
     "metadata": {},
     "output_type": "execute_result"
    }
   ],
   "source": [
    "sim_result |>\n",
    "    df -> filter(\n",
    "        x -> ((x.delta_1 == 0.1) .& (x.r == 0.707)) .|\n",
    "             ((x.delta_1 == 0.1) .& (x.r == 1.0)) .|\n",
    "             ((x.delta_1 == 0.3) .& (x.r == 1.0))\n",
    "            , df) |>\n",
    "    df -> sort(df, [:delta_1, :r, :thresh])"
   ]
  },
  {
   "cell_type": "markdown",
   "metadata": {},
   "source": [
    "## References"
   ]
  },
  {
   "cell_type": "markdown",
   "metadata": {},
   "source": [
    "1. Schönbrodt, Felix D., Eric-Jan Wagenmakers, Michael Zehetleitner, and Marco Perugini. \"Sequential hypothesis testing with Bayes factors: Efficiently testing mean differences.\" Psychological methods 22, no. 2 (2017): 322.\n",
    "2. Deng, Alex, Jiannan Lu, and Shouyuan Chen. \"Continuous monitoring of A/B tests without pain: Optional stopping in Bayesian testing.\" In 2016 IEEE international conference on data science and advanced analytics (DSAA), pp. 243-252. IEEE, 2016.\n",
    "3. Rouder, Jeffrey N. \"Optional stopping: No problem for Bayesians.\" Psychonomic bulletin & review 21, no. 2 (2014): 301-308."
   ]
  }
 ],
 "metadata": {
  "kernelspec": {
   "display_name": "Julia 1.5.4",
   "language": "julia",
   "name": "julia-1.5"
  },
  "language_info": {
   "file_extension": ".jl",
   "mimetype": "application/julia",
   "name": "julia",
   "version": "1.5.4"
  }
 },
 "nbformat": 4,
 "nbformat_minor": 2
}
